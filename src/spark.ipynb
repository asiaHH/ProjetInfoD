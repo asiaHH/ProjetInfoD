{
 "cells": [
  {
   "cell_type": "code",
   "execution_count": 2,
   "metadata": {},
   "outputs": [],
   "source": [
    "from pyspark.sql import SparkSession\n",
    "from pyspark.sql.functions import *"
   ]
  },
  {
   "cell_type": "markdown",
   "metadata": {},
   "source": [
    "## Initialisation de Spark"
   ]
  },
  {
   "cell_type": "code",
   "execution_count": null,
   "metadata": {},
   "outputs": [],
   "source": [
    "spark = SparkSession.builder.appName(\"Projet InfoD\").config(\"spark.jars\", \"/home1/tc737978/Documents/M2/Info décisionnelle/postgresql-42.7.5.jar\").getOrCreate()\n",
    "spark.conf.set('spark.sql.repl.eagerEval.enabled', True)\n"
   ]
  },
  {
   "cell_type": "markdown",
   "metadata": {},
   "source": [
    "## Chargement des données"
   ]
  },
  {
   "cell_type": "code",
   "execution_count": null,
   "metadata": {},
   "outputs": [],
   "source": [
    "tip = spark.read.csv(\"yelp_academic_dataset_tip.csv\", header=True, inferSchema=True)\n",
    "business = spark.read.json(\"yelp_academic_dataset_business.json\")\n",
    "checkin = spark.read.json(\"yelp_academic_dataset_checkin.json\")\n",
    "reviews = spark.read.jdbc(\"jdbc:postgresql://stendhal:5432/tpid2020\", \"yelp.review\", properties={\"user\": \"tpid\", \"password\": \"tpid\", \"driver\": \"org.postgresql.Driver\"})"
   ]
  },
  {
   "cell_type": "code",
   "execution_count": null,
   "metadata": {},
   "outputs": [],
   "source": [
    "tip.show()"
   ]
  },
  {
   "cell_type": "code",
   "execution_count": null,
   "metadata": {},
   "outputs": [],
   "source": [
    "business.show()"
   ]
  },
  {
   "cell_type": "code",
   "execution_count": null,
   "metadata": {},
   "outputs": [],
   "source": [
    "checkin.show()"
   ]
  },
  {
   "cell_type": "code",
   "execution_count": null,
   "metadata": {},
   "outputs": [],
   "source": [
    "reviews.show()"
   ]
  },
  {
   "cell_type": "markdown",
   "metadata": {},
   "source": [
    "## Création des dataframes"
   ]
  },
  {
   "cell_type": "markdown",
   "metadata": {},
   "source": [
    "### Business"
   ]
  },
  {
   "cell_type": "code",
   "execution_count": null,
   "metadata": {},
   "outputs": [],
   "source": [
    "Business = business.select(\"business_id\")\n",
    "Business = Business.withColumn(\"ID_Categorie\", monotonically_increasing_id())\n",
    "Business = Business.withColumn(\"ID_Attributes\", monotonically_increasing_id())\n",
    "Business = Business.withColumn(\"ID_Hours\", monotonically_increasing_id())\n",
    "Business = Business.withColumn(\"ID_Localisation\", monotonically_increasing_id())\n",
    "Business = Business.withColumn(\"ID_Reviews\", monotonically_increasing_id())\n",
    "Business.show()\n"
   ]
  },
  {
   "cell_type": "markdown",
   "metadata": {},
   "source": [
    "### Localisation"
   ]
  },
  {
   "cell_type": "code",
   "execution_count": 21,
   "metadata": {},
   "outputs": [],
   "source": [
    "Localisation = business.select(\"address\", \"city\", \"state\", \"postal_code\", \"latitude\", \"longitude\")\n",
    "Localisation = Localisation.withColumn(\"id\", monotonically_increasing_id())\n",
    "Localisation = Localisation.withColumn(\"country\", \\\n",
    "                        when(Localisation[\"state\"] == \"NC\", \"USA\") \\\n",
    "                        .when(Localisation[\"state\"] == \"AZ\", \"USA\") \\\n",
    "                        .when(Localisation[\"state\"] == \"QC\", \"CAN\") \\\n",
    "                        .when(Localisation[\"state\"] == \"NV\", \"USA\") \\\n",
    "                        .when(Localisation[\"state\"] == \"IL\", \"USA\") \\\n",
    "                        .when(Localisation[\"state\"] == \"ON\", \"CAN\") \\\n",
    "                        .when(Localisation[\"state\"] == \"AB\", \"CAN\") \\\n",
    "                        .when(Localisation[\"state\"] == \"PA\", \"USA\") \\\n",
    "                        .when(Localisation[\"state\"] == \"WI\", \"USA\") \\\n",
    "                        .when(Localisation[\"state\"] == \"SC\", \"USA\") \\\n",
    "                        .when(Localisation[\"state\"] == \"OH\", \"USA\") \\\n",
    "                        .when(Localisation[\"state\"] == \"CA\", \"USA\") \\\n",
    "                        .when(Localisation[\"state\"] == \"TX\", \"USA\") \\\n",
    "                        .when(Localisation[\"state\"] == \"NY\", \"USA\") \\\n",
    "                        .when(Localisation[\"state\"] == \"CO\", \"USA\") \\\n",
    "                        .when(Localisation[\"state\"] == \"XWY\", \"USA\") \\\n",
    "                        .when(Localisation[\"state\"] == \"GA\", \"USA\") \\\n",
    "                        .when(Localisation[\"state\"] == \"BC\", \"CAN\") \\\n",
    "                        .when(Localisation[\"state\"] == \"YT\", \"CAN\") \\\n",
    "                        .when(Localisation[\"state\"] == \"HPL\", \"USA\") \\\n",
    "                        .when(Localisation[\"state\"] == \"AL\", \"USA\") \\\n",
    "                        .when(Localisation[\"state\"] == \"UT\", \"USA\") \\\n",
    "                        .when(Localisation[\"state\"] == \"VT\", \"USA\") \\\n",
    "                        .when(Localisation[\"state\"] == \"WA\", \"USA\") \\\n",
    "                        .when(Localisation[\"state\"] == \"NE\", \"USA\") \\\n",
    "                        .when(Localisation[\"state\"] == \"DOW\", \"USA\") \\\n",
    "                        .when(Localisation[\"state\"] == \"MI\", \"USA\") \\\n",
    "                        .when(Localisation[\"state\"] == \"FL\", \"USA\") \\\n",
    "                        .when(Localisation[\"state\"] == \"AR\", \"USA\") \\\n",
    "                        .when(Localisation[\"state\"] == \"HI\", \"USA\") \\\n",
    "                        .when(Localisation[\"state\"] == \"MB\", \"CAN\") \\\n",
    "                        .when(Localisation[\"state\"] == \"OR\", \"USA\") \\\n",
    "                        .when(Localisation[\"state\"] == \"AK\", \"USA\") \\\n",
    "                        .when(Localisation[\"state\"] == \"VA\", \"USA\") \\\n",
    "                        .when(Localisation[\"state\"] == \"CT\", \"USA\") \\\n",
    "                        .when(Localisation[\"state\"] == \"MO\", \"USA\") \\\n",
    "                        .when(Localisation[\"state\"] == \"DUR\", \"USA\") \\\n",
    "                        .otherwise(\"Unknown\"))\n",
    "Localisation.show()"
   ]
  },
  {
   "cell_type": "markdown",
   "metadata": {},
   "source": [
    "### Reviews"
   ]
  },
  {
   "cell_type": "code",
   "execution_count": 10,
   "metadata": {},
   "outputs": [],
   "source": [
    "Reviews = spark.createDataFrame(spark.sparkContext.emptyRDD(), schema=business.schema)"
   ]
  },
  {
   "cell_type": "markdown",
   "metadata": {},
   "source": [
    "### Year"
   ]
  },
  {
   "cell_type": "code",
   "execution_count": null,
   "metadata": {},
   "outputs": [],
   "source": []
  },
  {
   "cell_type": "markdown",
   "metadata": {},
   "source": [
    "### Categories"
   ]
  },
  {
   "cell_type": "code",
   "execution_count": null,
   "metadata": {},
   "outputs": [],
   "source": [
    "Categories = Business.select(\"ID_Categorie\")\n"
   ]
  },
  {
   "cell_type": "markdown",
   "metadata": {},
   "source": [
    "### Categories_List"
   ]
  },
  {
   "cell_type": "code",
   "execution_count": null,
   "metadata": {},
   "outputs": [],
   "source": [
    "Categories_List = Categories.select(\"ID_Categorie\")\n",
    "Categories_List = Categories_List.withColumn(\"Name\", lit(\"\"))\n",
    "for i in Business.select(\"business_id\").collect():\n",
    "    cat = business.select(\"categories\").where(business[\"business_id\"] == i.business_id).collect()\n",
    "    list_cat = ()\n",
    "    for j in cat:\n",
    "        list_cat = j.categories.split(\", \")\n",
    "    for k in list_cat:\n",
    "        Categories_List = Categories_List.union(Categories_List.select(\"ID_Categorie\", \"Name\").withColumn(\"Name\", lit(k)))\n",
    "Categories_List.show()"
   ]
  },
  {
   "cell_type": "markdown",
   "metadata": {},
   "source": [
    "### Attributes"
   ]
  },
  {
   "cell_type": "code",
   "execution_count": 12,
   "metadata": {},
   "outputs": [],
   "source": [
    "Attributes = spark.createDataFrame(spark.sparkContext.emptyRDD(), schema=business.schema)\n",
    "Attributes = Attributes.withColumn(\"id\", monotonically_increasing_id())"
   ]
  },
  {
   "cell_type": "markdown",
   "metadata": {},
   "source": [
    "### Attributes_List"
   ]
  },
  {
   "cell_type": "code",
   "execution_count": null,
   "metadata": {},
   "outputs": [],
   "source": []
  },
  {
   "cell_type": "markdown",
   "metadata": {},
   "source": [
    "### Hours"
   ]
  },
  {
   "cell_type": "code",
   "execution_count": null,
   "metadata": {},
   "outputs": [],
   "source": [
    "Hours = business.select(\"hours.*\")\n",
    "Hours = Hours.withColumn(\"id\", monotonically_increasing_id())\n",
    "Hours.show()"
   ]
  }
 ],
 "metadata": {
  "kernelspec": {
   "display_name": "venv",
   "language": "python",
   "name": "python3"
  },
  "language_info": {
   "codemirror_mode": {
    "name": "ipython",
    "version": 3
   },
   "file_extension": ".py",
   "mimetype": "text/x-python",
   "name": "python",
   "nbconvert_exporter": "python",
   "pygments_lexer": "ipython3",
   "version": "3.11.2"
  }
 },
 "nbformat": 4,
 "nbformat_minor": 2
}
