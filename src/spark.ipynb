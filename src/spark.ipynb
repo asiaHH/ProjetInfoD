{
 "cells": [
  {
   "cell_type": "code",
   "execution_count": null,
   "metadata": {},
   "outputs": [
    {
     "name": "stderr",
     "output_type": "stream",
     "text": [
      "/home4/tc737978/Documents/M2/Machine Learning/TD/TD1/venv/lib/python3.11/site-packages/pyspark/pandas/__init__.py:50: UserWarning: 'PYARROW_IGNORE_TIMEZONE' environment variable was not set. It is required to set this environment variable to '1' in both driver and executor sides if you use pyarrow>=2.0.0. pandas-on-Spark will set it for you but it does not work if there is a Spark context already launched.\n",
      "  warnings.warn(\n"
     ]
    }
   ],
   "source": [
    "from pyspark.sql import SparkSession\n",
    "from pyspark.sql.functions import *\n",
    "from pyspark.sql.types import *\n",
    "from pyspark.sql.functions import *\n",
    "import pandas as pd\n",
    "import pyspark.pandas as ps"
   ]
  },
  {
   "cell_type": "markdown",
   "metadata": {},
   "source": [
    "## Initialisation de Spark"
   ]
  },
  {
   "cell_type": "code",
   "execution_count": 2,
   "metadata": {},
   "outputs": [
    {
     "name": "stderr",
     "output_type": "stream",
     "text": [
      "25/02/21 12:31:38 WARN NativeCodeLoader: Unable to load native-hadoop library for your platform... using builtin-java classes where applicable\n",
      "Setting default log level to \"WARN\".\n",
      "To adjust logging level use sc.setLogLevel(newLevel). For SparkR, use setLogLevel(newLevel).\n"
     ]
    }
   ],
   "source": [
    "spark = SparkSession.builder.appName(\"Projet InfoD\").config(\"spark.jars\", \"/home1/tc737978/Documents/M2/Info décisionnelle/postgresql-42.7.5.jar\").config(\"spark.driver.memory\", \"10g\").config(\"spark.executor.memory\", \"10g\").getOrCreate()\n",
    "spark.conf.set('spark.sql.repl.eagerEval.enabled', True)\n"
   ]
  },
  {
   "cell_type": "markdown",
   "metadata": {},
   "source": [
    "## Chargement des données"
   ]
  },
  {
   "cell_type": "code",
   "execution_count": 3,
   "metadata": {},
   "outputs": [
    {
     "name": "stderr",
     "output_type": "stream",
     "text": [
      "                                                                                \r"
     ]
    }
   ],
   "source": [
    "tip = spark.read.csv(\"yelp_academic_dataset_tip.csv\", header=True, inferSchema=True)\n",
    "business_source = pd.read_json(\"yelp_academic_dataset_business.json\", lines=True)\n",
    "business_source = spark.createDataFrame(business_source)\n",
    "checkin = spark.read.json(\"yelp_academic_dataset_checkin.json\")\n",
    "reviews = spark.read.jdbc(\"jdbc:postgresql://stendhal:5432/tpid2020\", \"yelp.review\", properties={\"user\": \"tpid\", \"password\": \"tpid\", \"driver\": \"org.postgresql.Driver\"})"
   ]
  },
  {
   "cell_type": "code",
   "execution_count": 4,
   "metadata": {},
   "outputs": [
    {
     "name": "stdout",
     "output_type": "stream",
     "text": [
      "+--------------------+----------------+-------------------+--------------------+--------------------+\n",
      "|         business_id|compliment_count|               date|                text|             user_id|\n",
      "+--------------------+----------------+-------------------+--------------------+--------------------+\n",
      "|UYX5zL_Xj9WEc_Wp-...|               0|2013-11-26 18:20:08|Here for a quick mtg|hf27xTME3EiCp6NL6...|\n",
      "|Ch3HkwQYv1YKw_FO0...|               0|2014-06-15 22:26:45|Cucumber strawber...|uEvusDwoSymbJJ0au...|\n",
      "|rDoT-MgxGRiYqCmi0...|               0|2016-07-18 22:03:42|Very nice good se...|AY-laIws3S7YXNl_f...|\n",
      "|OHXnDV01gLokiX1EL...|               0|2014-06-06 01:10:34|It's a small plac...|Ue_7yUlkEbX4AhnYd...|\n",
      "|GMrwDXRlAZU2zj5nH...|               0|2011-04-08 18:12:01|8 sandwiches, $24...|LltbT_fUMqZ-ZJP-v...|\n",
      "|ALwAlxItASeEs2vYA...|               0|2015-05-20 20:17:38|Great ramen! Not ...|HHNBqfbDR8b1iq-QG...|\n",
      "|d_L-rfS1vT3JMzgCU...|               0|2014-09-01 01:23:48|Cochinita Pibil w...|r0j4IpUbcdC1-HfoM...|\n",
      "|5FIOXmUE3qMviX9Ga...|               0|2010-01-30 02:03:16|Get a tsoynami fo...|gxVQZJVeKBUk7jEhS...|\n",
      "|rcaPajgKOJC2vo_l3...|               0|2012-05-29 02:05:56|Kelly is an aweso...|2hdR7KYAmnCk2FjTn...|\n",
      "|hfBrethLHS9iXeBNR...|               0|2011-09-30 18:38:47|Check out the gre...|DsWg3leomfasGs3j0...|\n",
      "|_98ytLdlPEDp0FTuO...|               0|2012-10-14 02:11:37|Girls night at a ...|dLWDy4yzVzMQuhjoE...|\n",
      "|ow3oP3cfmhlfmSsGa...|               0|2013-08-16 15:14:22|Lovely locale, go...|SF83eQjb7XUiXuZVz...|\n",
      "|gG9z6zr_49LocyCTv...|               0|2014-06-14 00:44:00|Just be ready to ...|oLHQ-31LcRobRxjRU...|\n",
      "|w8RWhhuKxMiFCpvFv...|               0|2010-11-22 04:59:53|The Pure Chocolat...|jOW3BGthCDL3l7Dd6...|\n",
      "|-ed0Yc9on37RoIoG2...|               0|2014-04-07 06:29:58|If there's a wait...|jJtMKVIUzdDG4xagI...|\n",
      "|-wDNRL4lm1UgeFLG9...|               0|2016-04-19 09:33:45|Great food. Been ...|XhGn2quN9IzMI4HkM...|\n",
      "|aLcFhMe6DDJ430zel...|               0|2012-03-16 02:02:27|Must book your table|K3bzEv1h7CP-B92bN...|\n",
      "|yDWYuIDfXHckdJM5f...|               0|2013-02-14 05:50:30|Great guy!  Aweso...|aqc3CnsHVD177hfh3...|\n",
      "|UbSa8ddKsvMZgodku...|               0|2014-08-28 21:40:22|Quiet, relaxed, f...|141lhbCGhduUaFs17...|\n",
      "|XC06xxb7FFYsXcI2E...|               0|2017-07-20 19:29:39|Make a reservatio...|BpJygDyhzDf7Pw1Is...|\n",
      "+--------------------+----------------+-------------------+--------------------+--------------------+\n",
      "only showing top 20 rows\n",
      "\n"
     ]
    }
   ],
   "source": [
    "tip.show()"
   ]
  },
  {
   "cell_type": "code",
   "execution_count": null,
   "metadata": {},
   "outputs": [
    {
     "name": "stderr",
     "output_type": "stream",
     "text": [
      "25/02/20 16:08:11 WARN TaskSetManager: Stage 3 contains a task of very large size (9780 KiB). The maximum recommended task size is 1000 KiB.\n"
     ]
    },
    {
     "name": "stdout",
     "output_type": "stream",
     "text": [
      "+--------------------+--------------------+--------------------+---------------+-----+-----------+-------------+---------------+-----+------------+-------+--------------------+--------------------+--------------------+\n",
      "|         business_id|                name|             address|           city|state|postal_code|     latitude|      longitude|stars|review_count|is_open|          attributes|          categories|               hours|\n",
      "+--------------------+--------------------+--------------------+---------------+-----+-----------+-------------+---------------+-----+------------+-------+--------------------+--------------------+--------------------+\n",
      "|f9NumwFMBDn751xgF...|The Range At Lake...|     10913 Bailey Rd|      Cornelius|   NC|      28031|   35.4627242|    -80.8526119|  3.5|          36|      1|{BikeParking -> T...|Active Life, Gun/...|{Thursday -> 11:0...|\n",
      "|Yzvjg0SayhoZgCljU...|   Carlos Santo, NMD|8880 E Via Linda,...|     Scottsdale|   AZ|      85258|   33.5694041|   -111.8902637|  5.0|           4|      1|{ByAppointmentOnl...|Health & Medical,...|                NULL|\n",
      "|XNoUzKckATkOD1hP6...|             Felinus|3554 Rue Notre-Da...|       Montreal|   QC|    H4C 1P4|    45.479984|      -73.58007|  5.0|           5|      1|                NULL|Pets, Pet Service...|                NULL|\n",
      "|6OAZjbxqM5ol29BuH...|Nevada House of Hose|      1015 Sharp Cir|North Las Vegas|   NV|      89030|   36.2197281|   -115.1277255|  2.5|           3|      0|{BikeParking -> T...|Hardware Stores, ...|{Tuesday -> 7:0-1...|\n",
      "|51M2Kk903DFYI6gnB...|USE MY GUY SERVIC...|  4827 E Downing Cir|           Mesa|   AZ|      85205|   33.4280652|   -111.7266485|  4.5|          26|      1|{ByAppointmentOnl...|Home Services, Pl...|{Tuesday -> 9:0-1...|\n",
      "|cKyLV5oWZJ2NudWgq...|Oasis Auto Center...|1720 W Elliot Rd,...|        Gilbert|   AZ|      85233|   33.3503993|   -111.8271417|  4.5|          38|      1|{BusinessAcceptsC...|Auto Repair, Auto...|{Thursday -> 7:0-...|\n",
      "|oiAlXZPIFm2nBCt0D...|Green World Cleaners|6870 S Rainbow Bl...|      Las Vegas|   NV|      89118|   36.0639767|    -115.241463|  3.5|          81|      1|{BikeParking -> T...|Dry Cleaning & La...|{Thursday -> 7:0-...|\n",
      "|ScYkbYNkDgCneBrD9...|Junction Tire & A...| 6910 E Southern Ave|           Mesa|   AZ|      85209|   33.3938847|   -111.6822257|  5.0|          18|      1|{ByAppointmentOnl...|Auto Repair, Oil ...|{Thursday -> 7:30...|\n",
      "|pQeaRpvuhoEqudo3u...| The Empanadas House|      404 E Green St|      Champaign|   IL|      61820|   40.1104457|    -88.2330726|  4.5|           5|      1|{BikeParking -> F...|Ethnic Food, Food...|{Tuesday -> 11:30...|\n",
      "|EosRKXIGeSWFYWwpk...|      Xtreme Couture|700 Kipling Avenu...|        Toronto|   ON|    M8Z 5G3|43.6245394916| -79.5291079302|  3.0|          16|      1|{BikeParking -> F...|Martial Arts, Gym...|{Thursday -> 5:30...|\n",
      "|MbZMmwo-eL0Jnm_Yb...|Chinook Landscapi...|                    |        Calgary|   AB|    T2J 2P2|   50.9459599|   -114.0372072|  5.0|           3|      1|                NULL|Contractors, Land...|{Thursday -> 7:0-...|\n",
      "|7Dv4_HAxsxvadEsT5...|Dependable Brakes...|1110 Saw Mill Run...|     Pittsburgh|   PA|      15226|   40.4066674|    -80.0044502|  5.0|           5|      1|{BusinessAcceptsC...|Automotive, Auto ...|{Tuesday -> 8:0-1...|\n",
      "|M_guz7Dj7hX0evS67...|Chocolate Shoppe ...|   2831 Parmenter St|      Middleton|   WI|      53562|43.1053100891| -89.5101417974|  3.5|           6|      1|{BikeParking -> T...|Desserts, Food, I...|{Thursday -> 11:0...|\n",
      "|JjJs3o60uQCfctDjs...|        Convertabath|116 N Roosevelt A...|       Chandler|   AZ|      85226|   33.3038687|   -111.9516598|  2.5|          10|      1|{ByAppointmentOnl...|Contractors, Home...|{Tuesday -> 9:0-1...|\n",
      "|kOICO53wbOiOJcKuC...|       Tan Las Vegas|     5465 Simmons St|North Las Vegas|   NV|      89031|    36.263362|   -115.1798386|  3.5|           5|      0|{ByAppointmentOnl...|Beauty & Spas, Ta...|{Thursday -> 8:0-...|\n",
      "|rqcOZePlVvJP9Etzl...|      Desert Storage|     2402 Atchley Dr|      Henderson|   NV|      89052|   35.9520457|   -115.0934834|  5.0|           5|      0|{BusinessAcceptsC...|Local Services, S...|{Thursday -> 8:0-...|\n",
      "|uZuh51lXu7tsrC8RA...|      Manolo Blahnik| 3131 Las Vegas Blvd|      Las Vegas|   NV|      89109|36.1257322229|-115.1676084101|  4.5|          32|      0|{BikeParking -> T...|Shopping, Shoe St...|                NULL|\n",
      "|nIEhsGbw0vJuYl05b...|   Bloom & Blueprint|2115 E Cedar St, ...|          Tempe|   AZ|      85281|   33.4115139|   -111.8953784|  4.5|           7|      1|{RestaurantsDeliv...|Event Planning & ...|                NULL|\n",
      "|edQoeeBFUTYGwnUSE...|            Car Guyz|      2915 Cherry Rd|      Rock Hill|   SC|      29730|   34.9811205|    -80.9790228|  4.5|          10|      1|{BusinessAcceptsC...|Auto Customizatio...|{Thursday -> 8:0-...|\n",
      "|Vwo64kNYDjKi98gUU...|Gateway Fit Body ...|     5229 S Power Rd|           Mesa|   AZ|      85212|   33.3207235|   -111.6858686|  4.5|          16|      1|{BikeParking -> T...|Weight Loss Cente...|{Thursday -> 5:30...|\n",
      "+--------------------+--------------------+--------------------+---------------+-----+-----------+-------------+---------------+-----+------------+-------+--------------------+--------------------+--------------------+\n",
      "only showing top 20 rows\n",
      "\n"
     ]
    }
   ],
   "source": [
    "business_source.show()"
   ]
  },
  {
   "cell_type": "code",
   "execution_count": 5,
   "metadata": {},
   "outputs": [
    {
     "name": "stdout",
     "output_type": "stream",
     "text": [
      "+--------------------+--------------------+\n",
      "|         business_id|                date|\n",
      "+--------------------+--------------------+\n",
      "|--1UhMGODdWsrMast...|2016-04-26 19:49:...|\n",
      "|--6MefnULPED_I942...|2011-06-04 18:22:...|\n",
      "|--7zmmkVg-IMGaXbu...|2014-12-29 19:25:...|\n",
      "|--8LPVSo5i0Oo61X0...| 2016-07-08 16:43:30|\n",
      "|--9QQLMTbFzLJ_oT-...|2010-06-26 17:39:...|\n",
      "|--9e1ONYQuAa-CB_R...|2010-02-08 05:56:...|\n",
      "|--DaPTJW3-tB1vP-P...|2012-06-03 17:46:...|\n",
      "|--DdmeR16TRb3LsjG...|2012-11-02 21:26:...|\n",
      "|--EF5N7P70J_UYBTP...|2018-05-25 19:52:...|\n",
      "|--EX4rRznJrltyn-3...|2010-02-26 17:05:...|\n",
      "|--FBCX-N37CMYDfs7...|2010-05-31 07:57:...|\n",
      "|--FLdgM0GNpXVMn74...|2012-10-23 18:47:...|\n",
      "|--FnvijzY20d1nk9H...|2019-09-19 02:42:...|\n",
      "|--GM_ORV2cYS-h38D...|2011-09-11 18:16:...|\n",
      "|--I7YYLada0tSLkOR...|2014-11-07 00:51:...|\n",
      "|--KCl2FvVQpvjzmZS...|2011-07-29 16:53:...|\n",
      "|--KQsXc-clkO7oHRq...|2010-05-02 23:57:...|\n",
      "|--Ni3oJ4VOqfOEu7S...| 2019-06-07 17:54:58|\n",
      "|--Rsj71PBe31h5Ylj...|2011-12-15 18:09:...|\n",
      "|--S62v0QgkqQaVUhF...|2010-12-25 07:04:...|\n",
      "+--------------------+--------------------+\n",
      "only showing top 20 rows\n",
      "\n"
     ]
    }
   ],
   "source": [
    "checkin.show()"
   ]
  },
  {
   "cell_type": "code",
   "execution_count": 4,
   "metadata": {},
   "outputs": [
    {
     "name": "stderr",
     "output_type": "stream",
     "text": [
      "[Stage 3:>                                                          (0 + 1) / 1]\r"
     ]
    },
    {
     "name": "stdout",
     "output_type": "stream",
     "text": [
      "+--------------------+----+----------+-----+--------------------+-----+--------------------+------+--------------------+---------------+\n",
      "|         business_id|cool|      date|funny|           review_id|stars|                text|useful|             user_id|spark_partition|\n",
      "+--------------------+----+----------+-----+--------------------+-----+--------------------+------+--------------------+---------------+\n",
      "|INzLc1Y0JNQzIHjPH...|   1|2016-10-03|    0|1XeoWasllr6kxDHXx...|  2.0|It's average. Not...|     0|7A6lEhTsGghPFMvbz...|             45|\n",
      "|-FLnsWAa4AGEW4NgE...|   0|2017-05-03|    0|9LXbXfMj1JxtTHac4...|  5.0|Loved this place!...|     0|VzAS-njv-GKcUnA7D...|             46|\n",
      "|7tcfLr-QpzJF-y5df...|   0|2014-11-17|    0|rdr2PiMFV58PnmuKq...|  5.0|Delectably delici...|     1|JWsWxfaJs_VlHIyLQ...|             47|\n",
      "|Ve6bA_jf9A7EWKXey...|   0|2015-12-07|    0|OrF8fvoQj60UPMITw...|  5.0|This Pizza shop h...|     0|kxpqvSYwq8JzRslmO...|             48|\n",
      "|3WRvQJS9GIBubGxbH...|   0|2015-07-05|    0|eE1Przzs-weeO0p9l...|  3.0|This location is ...|     1|6NYDXzkyYW3O2zYjz...|             49|\n",
      "|EE_CKAAq7_oL7jfxm...|   0|2013-03-21|    0|28kOAsjQ7jNtV8VD9...|  2.0|Applebee's is a g...|     1|fQq5QcMnrYyL4SQFx...|             50|\n",
      "|K-uQkfSUTwu5LIwPB...|   0|2015-11-09|    0|x4sc8czeC_mCUiOBy...|  3.0|Well, first time ...|     0|x3Z-lGW_15VSj5GUb...|             51|\n",
      "|EE_CKAAq7_oL7jfxm...|   0|2018-08-26|    0|K8fGLp5CNXYVl05iD...|  3.0|The food was okay...|     0|-NVHMPtJ6HsHZ1cjj...|             52|\n",
      "|D-8yidw7FLKKQpciK...|   0|2015-06-24|    0|GRFfr7qBPS7_fO30X...|  5.0|Declares war on a...|     0|vyccJ8Ok5zwxBY3G5...|             53|\n",
      "|8PBq-MHyLDrhkaTf7...|   1|2015-10-11|    1|kVtsuhgeV2s0WfSLT...|  1.0|Rice tasted uncoo...|     0|v_ET7BlDkCJu135SU...|             54|\n",
      "|AUOlDSQ8R2wIkN4lQ...|   0|2018-05-31|    0|pJ0N3tnLVEVvU_q_X...|  2.0|La comida esta ri...|     0|ts5MT1WzxooD01LMh...|             55|\n",
      "|3tSCyhkRIa7-drYrG...|   0|2016-03-20|    0|50Iwc8sn0w09rseJQ...|  5.0|Everything here i...|     0|teYu8_eZEJQKttJen...|             56|\n",
      "|YF4QJ_j-PM7cMZja6...|   0|2014-07-30|    0|v5CHZGlj8ILZMzajC...|  3.0|TURN THE MUSIC VO...|     0|0Mpx-hpQ7AlNpRvq0...|             57|\n",
      "|3l5TusofKjr8rk6-D...|   0|2016-10-28|    0|-i4PDZDShZR9fZJVc...|  5.0|This place is gre...|     0|-SZkdf-J-EkLX5jXn...|             58|\n",
      "|FdAFfmeqaaY-1463S...|   0|2011-11-02|    2|mY0UH9rc7lxDLkjMb...|  2.0|This is a really ...|     2|lwCt_LgGAbPQpNRpa...|             59|\n",
      "|c9SKd0bIR6nNzXOVC...|   0|2018-07-28|    0|ghJyj_FWswUbRiivY...|  5.0|Lots of options, ...|     0|61vQJSnhppMOCEIpm...|             60|\n",
      "|J0ufK7WAEq6oAdpDF...|   1|2013-09-07|    0|MJVnTZw2fbY4-8xlD...|  4.0|There are a lot o...|     3|hZfzVrhsCQ9JDAb2j...|             61|\n",
      "|XxDjuiNzGxBiTasXO...|   0|2017-10-13|    0|JE8C6-sovjn2n8UWl...|  1.0|I came here alone...|     2|CsvRX0DH0-tFJ-SIE...|             62|\n",
      "|-Bf8BQ3yMk8U2f45r...|   0|2018-03-05|    0|xK9vIeN9kRn4zkt8q...|  3.0|I have to be hone...|     0|wb4AA2DRO-I-lP1Yd...|             63|\n",
      "|qFo9G2zdvLbgH8whx...|   0|2017-09-22|    0|fLYzoBBxKHG9CE1UX...|  2.0|IMydaytime lunch ...|     0|DzMmu-S22uWYCPRnY...|             64|\n",
      "+--------------------+----+----------+-----+--------------------+-----+--------------------+------+--------------------+---------------+\n",
      "only showing top 20 rows\n",
      "\n"
     ]
    },
    {
     "name": "stderr",
     "output_type": "stream",
     "text": [
      "                                                                                \r"
     ]
    }
   ],
   "source": [
    "reviews.show()"
   ]
  },
  {
   "cell_type": "markdown",
   "metadata": {},
   "source": [
    "## Création des dataframes"
   ]
  },
  {
   "cell_type": "markdown",
   "metadata": {},
   "source": [
    "### Business"
   ]
  },
  {
   "cell_type": "code",
   "execution_count": 13,
   "metadata": {},
   "outputs": [
    {
     "name": "stderr",
     "output_type": "stream",
     "text": [
      "25/02/21 12:45:04 WARN TaskSetManager: Stage 123 contains a task of very large size (5746 KiB). The maximum recommended task size is 1000 KiB.\n",
      "[Stage 124:>                                                        (0 + 1) / 1]\r"
     ]
    },
    {
     "name": "stdout",
     "output_type": "stream",
     "text": [
      "+--------------------+------------+-------------+------------+---------------+------------+------------------+\n",
      "|         business_id|ID_Categorie|ID_Attributes|    ID_Hours|ID_Localisation|  ID_Reviews|         avg_stars|\n",
      "+--------------------+------------+-------------+------------+---------------+------------+------------------+\n",
      "|-EnsDiGk4UhHQx-E4...|120259084294| 120259084294|120259084294|   120259084294|120259084294| 2.230769230769231|\n",
      "|-yXkMzPPQ2PvzIC-N...|111669149700| 111669149700|111669149700|   111669149700|111669149700|1.3636363636363635|\n",
      "|02LPDp1m9V8EcS79d...|128849018885| 128849018885|128849018885|   128849018885|128849018885|               4.0|\n",
      "|0nc1B-3rKnvFawMtf...| 77309411341|  77309411341| 77309411341|    77309411341| 77309411341|1.5454545454545454|\n",
      "|2ifCqFUJDgGPjdeY7...|103079215104| 103079215104|103079215104|   103079215104|103079215104|1.6666666666666667|\n",
      "|3LF3HqwhUJYT9ma48...| 85899345929|  85899345929| 85899345929|    85899345929| 85899345929| 4.470588235294118|\n",
      "|4l33jgw8yqaedY06w...|120259084303| 120259084303|120259084303|   120259084303|120259084303| 3.357142857142857|\n",
      "|5_pS_1pBr6V2gz1y3...| 51539607553|  51539607553| 51539607553|    51539607553| 51539607553| 4.642857142857143|\n",
      "|6V4zeEyCOw0XJHEY9...|137438953472| 137438953472|137438953472|   137438953472|137438953472|2.8333333333333335|\n",
      "|8oOUIbIrscMlf4UOT...| 42949672977|  42949672977| 42949672977|    42949672977| 42949672977|3.1666666666666665|\n",
      "|CCZrbW_8majCaFqni...|154618822664| 154618822664|154618822664|   154618822664|154618822664|              4.75|\n",
      "|CsLQLiRoafpJPJSkN...|          20|           20|          20|             20|          20|2.8333333333333335|\n",
      "|F1tRni0x93nfRA-O5...|103079215116| 103079215116|103079215116|   103079215116|103079215116| 4.679245283018868|\n",
      "|F37tg5uibpctVMGbp...|111669149711| 111669149711|111669149711|   111669149711|111669149711|               2.0|\n",
      "|Fx6zp-ZhuhuJVI10w...|146028888068| 146028888068|146028888068|   146028888068|146028888068| 4.857142857142857|\n",
      "|G6kcN1yZAE2vctGXZ...|146028888084| 146028888084|146028888084|   146028888084|146028888084| 4.833333333333333|\n",
      "|HAtC0cUlvi67SkLPo...|111669149702| 111669149702|111669149702|   111669149702|111669149702|3.8333333333333335|\n",
      "|Hg18L3jQayX9YUCqv...| 17179869191|  17179869191| 17179869191|    17179869191| 17179869191| 4.571428571428571|\n",
      "|HiXTdnt1MLoBRfo-0...| 51539607566|  51539607566| 51539607566|    51539607566| 51539607566|               5.0|\n",
      "|J1NQNefrN04g3idH0...|146028888066| 146028888066|146028888066|   146028888066|146028888066| 4.193548387096774|\n",
      "+--------------------+------------+-------------+------------+---------------+------------+------------------+\n",
      "only showing top 20 rows\n",
      "\n"
     ]
    },
    {
     "name": "stderr",
     "output_type": "stream",
     "text": [
      "                                                                                \r"
     ]
    }
   ],
   "source": [
    "Business = business_source.select(\"business_id\")\n",
    "Business = Business.withColumn(\"ID_Categorie\", monotonically_increasing_id())\n",
    "Business = Business.withColumn(\"ID_Attributes\", monotonically_increasing_id())\n",
    "Business = Business.withColumn(\"ID_Hours\", monotonically_increasing_id())\n",
    "Business = Business.withColumn(\"ID_Localisation\", monotonically_increasing_id())\n",
    "Business = Business.withColumn(\"ID_Reviews\", monotonically_increasing_id())\n",
    "Stars = reviews.select(\"business_id\", \"stars\").groupBy(\"business_id\").agg(avg(\"stars\").alias(\"avg_stars\")).na.fill(0)\n",
    "Business = Business.join(Stars, on=\"business_id\", how=\"left\")\n",
    "Business.show()\n"
   ]
  },
  {
   "cell_type": "markdown",
   "metadata": {},
   "source": [
    "### Localisation"
   ]
  },
  {
   "cell_type": "code",
   "execution_count": 17,
   "metadata": {},
   "outputs": [
    {
     "name": "stderr",
     "output_type": "stream",
     "text": [
      "25/02/21 12:55:27 WARN TaskSetManager: Stage 230 contains a task of very large size (5746 KiB). The maximum recommended task size is 1000 KiB.\n",
      "25/02/21 12:55:27 WARN TaskSetManager: Stage 231 contains a task of very large size (5746 KiB). The maximum recommended task size is 1000 KiB.\n",
      "[Stage 231:=============>                                         (5 + 15) / 20]\r"
     ]
    },
    {
     "name": "stdout",
     "output_type": "stream",
     "text": [
      "+---------------+-----+------------+-----------+--------------------+------------------+---------------+-------+\n",
      "|ID_Localisation|state|        city|postal_code|             address|          latitude|      longitude|country|\n",
      "+---------------+-----+------------+-----------+--------------------+------------------+---------------+-------+\n",
      "|   120259084294|   AZ|    Chandler|      85225|  2060 N Arizona Ave|        33.3363385|   -111.8425591|    USA|\n",
      "|   103079215116|   SC|   Fort Mill|      29732|  9775 Charlotte Hwy|         35.002024|     -80.856091|    USA|\n",
      "|   111669149702|   OH|Strongsville|      44136|       9200 Pearl Rd|        41.3423081|       -81.8282|    USA|\n",
      "|    17179869191|   AZ|  Scottsdale|      85251| 7800 E Camelback Rd|        33.5027727|   -111.9127297|    USA|\n",
      "|   146028888066|   NV|   Las Vegas|      89109|  3068 S Highland Dr|        36.1342783|   -115.1743721|    USA|\n",
      "|    34359738370|   NC|   Charlotte|      28216|6148-A Brookshire...|         35.287571|     -80.906342|    USA|\n",
      "|    34359738387|   NC|   Charlotte|      28211|4400 Sharon Rd, S...|        35.1522311|    -80.8318968|    USA|\n",
      "|    42949672970|   ON|     Toronto|    M4L 1A8|  999 Eastern Avenue|         43.663279|    -79.3198933|    CAN|\n",
      "|             12|   WI|   Middleton|      53562|   2831 Parmenter St|     43.1053100891| -89.5101417974|    USA|\n",
      "|    60129542144|   ON|     Toronto|    M5J 2X1|228 Queens Quay W...|     43.6395470596| -79.3834815716|    CAN|\n",
      "|     8589934598|   ON| Mississauga|    L5B 2C9|100 City Centre D...|     43.5940336343| -79.6493399992|    CAN|\n",
      "|   120259084292|   AZ|    Glendale|      85301|5511 N 51st Ave, ...|     33.5168339673|-112.1685536675|    USA|\n",
      "|   163208757266|   ON| Mississauga|    L5B 3Y7|265 Enfield Place...|     43.5912118866| -79.6357531683|    CAN|\n",
      "|    51539607561|   NV|   Las Vegas|      89104|2310 S Las Vegas ...|        36.1448821|   -115.1572121|    USA|\n",
      "|   111669149715|   NV|   Las Vegas|      89146|2375 S Jones Blvd...|          36.14201|     -115.22474|    USA|\n",
      "|    77309411337|   AZ|    Surprise|      85378|12691 W Smokey Dr...|33.637631999999996|   -112.3332647|    USA|\n",
      "|   137438953479|   ON|   Newmarket|    L3Y 3Y5|    71 Main Street S|        44.0567946|    -79.4598626|    CAN|\n",
      "|     8589934596|   ON|     Toronto|    M5R 3L2|55 Avenue Road, U...|        43.6715255|    -79.3945958|    CAN|\n",
      "|    68719476744|   ON|     Toronto|    M4M 2H5|  725 Queen Street E|        43.6588471|    -79.3491037|    CAN|\n",
      "|   120259084307|   ON|     Toronto|    M6P 1A6|     1661 Bloor St W|        43.6554257|    -79.4564742|    CAN|\n",
      "+---------------+-----+------------+-----------+--------------------+------------------+---------------+-------+\n",
      "only showing top 20 rows\n",
      "\n"
     ]
    },
    {
     "name": "stderr",
     "output_type": "stream",
     "text": [
      "                                                                                \r"
     ]
    }
   ],
   "source": [
    "Localisation = Business.select(\"ID_Localisation\", \"business_id\")\n",
    "Localisation = Localisation.join(business_source.select(\"business_id\", \"state\", \"city\", \"postal_code\", \"address\", \"latitude\", \"longitude\"), on=\"business_id\", how=\"left\")\n",
    "Localisation = Localisation.withColumn(\"country\", \\\n",
    "                        when(Localisation[\"state\"] == \"NC\", \"USA\") \\\n",
    "                        .when(Localisation[\"state\"] == \"AZ\", \"USA\") \\\n",
    "                        .when(Localisation[\"state\"] == \"QC\", \"CAN\") \\\n",
    "                        .when(Localisation[\"state\"] == \"NV\", \"USA\") \\\n",
    "                        .when(Localisation[\"state\"] == \"IL\", \"USA\") \\\n",
    "                        .when(Localisation[\"state\"] == \"AB\", \"CAN\") \\\n",
    "                        .when(Localisation[\"state\"] == \"PA\", \"USA\") \\\n",
    "                        .when(Localisation[\"state\"] == \"WI\", \"USA\") \\\n",
    "                        .when(Localisation[\"state\"] == \"SC\", \"USA\") \\\n",
    "                        .when(Localisation[\"state\"] == \"OH\", \"USA\") \\\n",
    "                        .when(Localisation[\"state\"] == \"CA\", \"USA\") \\\n",
    "                        .when(Localisation[\"state\"] == \"TX\", \"USA\") \\\n",
    "                        .when(Localisation[\"state\"] == \"NY\", \"USA\") \\\n",
    "                        .when(Localisation[\"state\"] == \"CO\", \"USA\") \\\n",
    "                        .when(Localisation[\"state\"] == \"XWY\", \"USA\") \\\n",
    "                        .when(Localisation[\"state\"] == \"GA\", \"USA\") \\\n",
    "                        .when(Localisation[\"state\"] == \"BC\", \"CAN\") \\\n",
    "                        .when(Localisation[\"state\"] == \"YT\", \"CAN\") \\\n",
    "                        .when(Localisation[\"state\"] == \"HPL\", \"USA\") \\\n",
    "                        .when(Localisation[\"state\"] == \"AL\", \"USA\") \\\n",
    "                        .when(Localisation[\"state\"] == \"UT\", \"USA\") \\\n",
    "                        .when(Localisation[\"state\"] == \"VT\", \"USA\") \\\n",
    "                        .when(Localisation[\"state\"] == \"WA\", \"USA\") \\\n",
    "                        .when(Localisation[\"state\"] == \"NE\", \"USA\") \\\n",
    "                        .when(Localisation[\"state\"] == \"DOW\", \"USA\") \\\n",
    "                        .when(Localisation[\"state\"] == \"MI\", \"USA\") \\\n",
    "                        .when(Localisation[\"state\"] == \"FL\", \"USA\") \\\n",
    "                        .when(Localisation[\"state\"] == \"AR\", \"USA\") \\\n",
    "                        .when(Localisation[\"state\"] == \"HI\", \"USA\") \\\n",
    "                        .when(Localisation[\"state\"] == \"MB\", \"CAN\") \\\n",
    "                        .when(Localisation[\"state\"] == \"OR\", \"USA\") \\\n",
    "                        .when(Localisation[\"state\"] == \"AK\", \"USA\") \\\n",
    "                        .when(Localisation[\"state\"] == \"VA\", \"USA\") \\\n",
    "                        .when(Localisation[\"state\"] == \"CT\", \"USA\") \\\n",
    "                        .when(Localisation[\"state\"] == \"MO\", \"USA\") \\\n",
    "                        .when(Localisation[\"state\"] == \"DUR\", \"USA\") \\\n",
    "                        .when(Localisation[\"state\"] == \"ON\", \"CAN\") \\\n",
    "                        .otherwise(\"Unknown\"))\n",
    "Localisation = Localisation.drop(\"business_id\")\n",
    "Localisation.show()"
   ]
  },
  {
   "cell_type": "markdown",
   "metadata": {},
   "source": [
    "### Reviews"
   ]
  },
  {
   "cell_type": "code",
   "execution_count": null,
   "metadata": {},
   "outputs": [
    {
     "name": "stderr",
     "output_type": "stream",
     "text": [
      "25/02/21 12:35:34 WARN TaskSetManager: Stage 21 contains a task of very large size (5746 KiB). The maximum recommended task size is 1000 KiB.\n",
      "                                                                                \r"
     ]
    },
    {
     "data": {
      "text/plain": [
       "[Row(ID_Reviews=17179869191, Nb_Reviews=7, Nb_Tips=2, Nb_Checkins=340),\n",
       " Row(ID_Reviews=34359738370, Nb_Reviews=13, Nb_Tips=None, Nb_Checkins=5),\n",
       " Row(ID_Reviews=60129542144, Nb_Reviews=4, Nb_Tips=1, Nb_Checkins=8),\n",
       " Row(ID_Reviews=8589934598, Nb_Reviews=3, Nb_Tips=None, Nb_Checkins=14),\n",
       " Row(ID_Reviews=51539607561, Nb_Reviews=44, Nb_Tips=3, Nb_Checkins=30),\n",
       " Row(ID_Reviews=8589934596, Nb_Reviews=7, Nb_Tips=None, Nb_Checkins=8),\n",
       " Row(ID_Reviews=8589934600, Nb_Reviews=3, Nb_Tips=None, Nb_Checkins=None),\n",
       " Row(ID_Reviews=34359738374, Nb_Reviews=13, Nb_Tips=4, Nb_Checkins=181),\n",
       " Row(ID_Reviews=25769803779, Nb_Reviews=136, Nb_Tips=19, Nb_Checkins=176),\n",
       " Row(ID_Reviews=17179869190, Nb_Reviews=8, Nb_Tips=None, Nb_Checkins=2)]"
      ]
     },
     "execution_count": 8,
     "metadata": {},
     "output_type": "execute_result"
    }
   ],
   "source": [
    "nb_reviews = reviews.groupBy(\"business_id\").count().withColumnRenamed(\"count\", \"Nb_Reviews\")\n",
    "nb_tips = tip.groupBy(\"business_id\").count().withColumnRenamed(\"count\", \"Nb_Tips\")\n",
    "nb_checkins = checkin.withColumn(\"checkin\", explode(split(col(\"date\"), \", \"))).groupBy(\"business_id\").count().withColumnRenamed(\"count\", \"Nb_Checkins\")\n",
    "Reviews = Business.select(\"ID_Reviews\", \"business_id\")\n",
    "Reviews = Reviews.join(nb_reviews, Reviews.business_id == nb_reviews.business_id, \"left\").drop(nb_reviews.business_id)\n",
    "Reviews = Reviews.join(nb_tips, Reviews.business_id == nb_tips.business_id, \"left\").drop(nb_tips.business_id)\n",
    "Reviews = Reviews.join(nb_checkins, Reviews.business_id == nb_checkins.business_id, \"left\").drop(nb_checkins.business_id)\n",
    "Reviews = Reviews.drop(\"business_id\")\n",
    "Reviews.show()"
   ]
  },
  {
   "cell_type": "markdown",
   "metadata": {},
   "source": [
    "### Year"
   ]
  },
  {
   "cell_type": "code",
   "execution_count": null,
   "metadata": {},
   "outputs": [],
   "source": []
  },
  {
   "cell_type": "markdown",
   "metadata": {},
   "source": [
    "### Categories"
   ]
  },
  {
   "cell_type": "code",
   "execution_count": 6,
   "metadata": {},
   "outputs": [
    {
     "name": "stdout",
     "output_type": "stream",
     "text": [
      "+------------+\n",
      "|ID_Categorie|\n",
      "+------------+\n",
      "|           0|\n",
      "|           1|\n",
      "|           2|\n",
      "|           3|\n",
      "|           4|\n",
      "|           5|\n",
      "|           6|\n",
      "|           7|\n",
      "|           8|\n",
      "|           9|\n",
      "|          10|\n",
      "|          11|\n",
      "|          12|\n",
      "|          13|\n",
      "|          14|\n",
      "|          15|\n",
      "|          16|\n",
      "|          17|\n",
      "|          18|\n",
      "|          19|\n",
      "+------------+\n",
      "only showing top 20 rows\n",
      "\n"
     ]
    },
    {
     "name": "stderr",
     "output_type": "stream",
     "text": [
      "25/02/20 16:08:36 WARN TaskSetManager: Stage 5 contains a task of very large size (9780 KiB). The maximum recommended task size is 1000 KiB.\n"
     ]
    }
   ],
   "source": [
    "Categories = Business.select(\"ID_Categorie\")\n",
    "Categories.show()\n"
   ]
  },
  {
   "cell_type": "markdown",
   "metadata": {},
   "source": [
    "### Categories_List"
   ]
  },
  {
   "cell_type": "code",
   "execution_count": 7,
   "metadata": {},
   "outputs": [
    {
     "name": "stderr",
     "output_type": "stream",
     "text": [
      "25/02/20 16:08:39 WARN TaskSetManager: Stage 6 contains a task of very large size (9780 KiB). The maximum recommended task size is 1000 KiB.\n",
      "25/02/20 16:08:41 WARN TaskSetManager: Stage 7 contains a task of very large size (9780 KiB). The maximum recommended task size is 1000 KiB.\n",
      "                                                                                \r"
     ]
    },
    {
     "name": "stdout",
     "output_type": "stream",
     "text": [
      "+------------+--------------------+\n",
      "|ID_Categorie|                Name|\n",
      "+------------+--------------------+\n",
      "|          12|            Desserts|\n",
      "|          12|                Food|\n",
      "|          12|Ice Cream & Froze...|\n",
      "|         219|            Shopping|\n",
      "|         219|     Decks & Railing|\n",
      "|         219|Paint-Your-Own Po...|\n",
      "|         219|       Arts & Crafts|\n",
      "|         219|           Cabinetry|\n",
      "|         219|       Home Services|\n",
      "|         219|          Carpenters|\n",
      "|         219|         Contractors|\n",
      "|         737|Garage Door Services|\n",
      "|         737|       Home Services|\n",
      "|         758|            Caterers|\n",
      "|         758|      Specialty Food|\n",
      "|         758|Event Planning & ...|\n",
      "|         758|      American (New)|\n",
      "|         758|         Food Trucks|\n",
      "|         758|American (Traditi...|\n",
      "|         758|         Restaurants|\n",
      "+------------+--------------------+\n",
      "only showing top 20 rows\n",
      "\n"
     ]
    }
   ],
   "source": [
    "# Sélectionner les colonnes nécessaires\n",
    "categories_df = business_source.select(\"business_id\", \"categories\")\n",
    "\n",
    "# Transformer la colonne categories en liste\n",
    "categories_df = categories_df.withColumn(\"categories_list\", split(categories_df[\"categories\"], \", \"))\n",
    "\n",
    "# Exploser la liste des catégories pour obtenir une ligne par catégorie\n",
    "categories_list_df = categories_df.withColumn(\"category\", explode(categories_df[\"categories_list\"]))\n",
    "\n",
    "# Joindre avec le DataFrame Business pour obtenir les ID_Categorie\n",
    "categories_list_df = categories_list_df.join(Business, on=\"business_id\")\n",
    "\n",
    "# Sélectionner les colonnes finales et renommer\n",
    "Categories_List = categories_list_df.select(col(\"ID_Categorie\"), col(\"category\").alias(\"Name\"))\n",
    "\n",
    "# Afficher le DataFrame final\n",
    "Categories_List.show()\n"
   ]
  },
  {
   "cell_type": "markdown",
   "metadata": {},
   "source": [
    "### Attributes"
   ]
  },
  {
   "cell_type": "code",
   "execution_count": 5,
   "metadata": {},
   "outputs": [
    {
     "name": "stdout",
     "output_type": "stream",
     "text": [
      "+-------------+\n",
      "|ID_Attributes|\n",
      "+-------------+\n",
      "|            0|\n",
      "|            1|\n",
      "|            2|\n",
      "|            3|\n",
      "|            4|\n",
      "|            5|\n",
      "|            6|\n",
      "|            7|\n",
      "|            8|\n",
      "|            9|\n",
      "|           10|\n",
      "|           11|\n",
      "|           12|\n",
      "|           13|\n",
      "|           14|\n",
      "|           15|\n",
      "|           16|\n",
      "|           17|\n",
      "|           18|\n",
      "|           19|\n",
      "+-------------+\n",
      "only showing top 20 rows\n",
      "\n"
     ]
    },
    {
     "name": "stderr",
     "output_type": "stream",
     "text": [
      "25/02/20 16:15:58 WARN TaskSetManager: Stage 4 contains a task of very large size (9780 KiB). The maximum recommended task size is 1000 KiB.\n"
     ]
    }
   ],
   "source": [
    "Attributes = Business.select(\"ID_Attributes\")\n",
    "Attributes.show()"
   ]
  },
  {
   "cell_type": "markdown",
   "metadata": {},
   "source": [
    "### Attributes_List"
   ]
  },
  {
   "cell_type": "code",
   "execution_count": 6,
   "metadata": {},
   "outputs": [
    {
     "name": "stderr",
     "output_type": "stream",
     "text": [
      "25/02/20 16:16:00 WARN TaskSetManager: Stage 5 contains a task of very large size (9780 KiB). The maximum recommended task size is 1000 KiB.\n",
      "25/02/20 16:16:01 WARN TaskSetManager: Stage 6 contains a task of very large size (9780 KiB). The maximum recommended task size is 1000 KiB.\n",
      "                                                                                \r"
     ]
    },
    {
     "name": "stdout",
     "output_type": "stream",
     "text": [
      "+-------------+--------------------+--------------------+\n",
      "|ID_Attributes|                Name|               value|\n",
      "+-------------+--------------------+--------------------+\n",
      "|           12|         BikeParking|                True|\n",
      "|           12|BusinessAcceptsCr...|                True|\n",
      "|           12|              Caters|                True|\n",
      "|           12|     BusinessParking|{'garage': False,...|\n",
      "|           12|RestaurantsPriceR...|                   1|\n",
      "|           12|WheelchairAccessible|                True|\n",
      "|           12|  RestaurantsTakeOut|                True|\n",
      "|           12|                WiFi|               u'no'|\n",
      "|          219|   ByAppointmentOnly|                True|\n",
      "|          219|BusinessAcceptsCr...|               False|\n",
      "|          219|BusinessAcceptsBi...|               False|\n",
      "|          219|WheelchairAccessible|               False|\n",
      "|          737|   ByAppointmentOnly|               False|\n",
      "|          737|BusinessAcceptsCr...|                True|\n",
      "|          758|         BikeParking|                True|\n",
      "|          758| RestaurantsDelivery|                True|\n",
      "|          758|BusinessAcceptsCr...|                True|\n",
      "|          758|              Caters|                True|\n",
      "|          758|     BusinessParking|{'garage': False,...|\n",
      "|          758|             Alcohol|             u'none'|\n",
      "+-------------+--------------------+--------------------+\n",
      "only showing top 20 rows\n",
      "\n"
     ]
    }
   ],
   "source": [
    "#Sélectionner les colonnes nécessaires\n",
    "attributes_df = business_source.select(\"business_id\", \"attributes\")\n",
    "\n",
    "# Exploser les colonnes du DataFrame attributes_df\n",
    "attributes_df = attributes_df.select(\"business_id\", explode(attributes_df[\"attributes\"]).alias(\"attribute\", \"value\"))\n",
    "\n",
    "# Joindre avec le DataFrame Business pour obtenir les ID_Attributes\n",
    "attributes_df = attributes_df.join(Business, on=\"business_id\")\n",
    "\n",
    "# Sélectionner les colonnes finales et renommer\n",
    "Attributes_List = attributes_df.select(col(\"ID_Attributes\"), col(\"attribute\").alias(\"Name\"), col(\"value\"))\n",
    "\n",
    "# Afficher le DataFrame final\n",
    "Attributes_List.show()"
   ]
  },
  {
   "cell_type": "markdown",
   "metadata": {},
   "source": [
    "### Hours"
   ]
  },
  {
   "cell_type": "code",
   "execution_count": 18,
   "metadata": {},
   "outputs": [
    {
     "name": "stderr",
     "output_type": "stream",
     "text": [
      "25/02/20 16:40:16 WARN TaskSetManager: Stage 32 contains a task of very large size (9780 KiB). The maximum recommended task size is 1000 KiB.\n",
      "25/02/20 16:40:16 WARN TaskSetManager: Stage 33 contains a task of very large size (9780 KiB). The maximum recommended task size is 1000 KiB.\n",
      "[Stage 33:====>                                                   (1 + 11) / 12]\r"
     ]
    },
    {
     "name": "stdout",
     "output_type": "stream",
     "text": [
      "+--------+-----------+-----------+-----------+-----------+----------+----------+----------+\n",
      "|ID_Hours|     Monday|    Tuesday|  Wednesday|   Thursday|    Friday|  Saturday|    Sunday|\n",
      "+--------+-----------+-----------+-----------+-----------+----------+----------+----------+\n",
      "|      12|    0:0-0:0|  11:0-21:0|  11:0-21:0|  11:0-21:0| 11:0-22:0| 11:0-22:0| 11:0-21:0|\n",
      "|     219|   7:0-18:0|   7:0-18:0|   7:0-18:0|   7:0-18:0|  7:0-18:0|  7:0-18:0|      NULL|\n",
      "|     737|   8:0-17:0|   8:0-17:0|   8:0-17:0|   8:0-17:0|  8:0-17:0|  8:0-12:0|   0:0-0:0|\n",
      "|     758|    6:0-0:0|    6:0-0:0|    6:0-0:0|    6:0-0:0|   6:0-0:0|   6:0-0:0|   6:0-0:0|\n",
      "|    1260|       NULL|   9:0-15:0|   9:0-17:0|   9:0-17:0|  9:0-17:0|  9:0-17:0|      NULL|\n",
      "|    1273|    0:0-0:0|    0:0-0:0|    0:0-0:0|    0:0-0:0|   0:0-0:0|   0:0-0:0|   0:0-0:0|\n",
      "|    1607|    0:0-0:0|    0:0-0:0|    0:0-0:0|    0:0-0:0|   0:0-0:0|   0:0-0:0|   0:0-0:0|\n",
      "|    2056|  9:30-19:0|  9:30-19:0|  9:30-19:0|  9:30-19:0| 9:30-19:0|  9:0-19:0| 10:0-17:0|\n",
      "|    2150|  11:0-23:0|  11:0-23:0|  11:0-23:0|  11:0-23:0| 11:0-23:0| 11:0-23:0| 11:0-23:0|\n",
      "|    2233| 11:30-22:0| 11:30-22:0| 11:30-22:0| 11:30-22:0|11:30-23:0| 10:0-15:0| 10:0-15:0|\n",
      "|    2254|   11:0-2:0|   11:0-2:0|   11:0-2:0|   11:0-2:0|  11:0-2:0|  10:0-2:0|  10:0-2:0|\n",
      "|    2427|  7:30-18:0|  7:30-18:0|  7:30-18:0|  7:30-18:0| 7:30-18:0|  9:0-14:0|      NULL|\n",
      "|    2568|11:30-22:30|11:30-22:30|11:30-22:30|11:30-22:30|11:30-23:0|11:30-23:0|11:30-22:0|\n",
      "|    2664|       NULL|  16:0-20:0|  16:0-20:0|  16:0-20:0| 16:0-20:0| 16:0-21:0|      NULL|\n",
      "|    2711|       NULL|       NULL|       NULL|       NULL|      NULL|      NULL|      NULL|\n",
      "|    2821|   6:0-19:0|   6:0-19:0|   6:0-19:0|   6:0-19:0|  6:0-19:0|  8:0-18:0| 10:0-18:0|\n",
      "|    2863|       NULL|       NULL|       NULL|       NULL|      NULL|      NULL|      NULL|\n",
      "|    3309|   9:0-18:0|       NULL|   9:0-19:0|   8:0-17:0|  8:0-17:0|      NULL|      NULL|\n",
      "|    3690|    0:0-0:0|    0:0-0:0|    0:0-0:0|    0:0-0:0|   0:0-0:0|   0:0-0:0|12:0-16:30|\n",
      "|    3722|       NULL|       NULL|       NULL|       NULL|      NULL|      NULL|      NULL|\n",
      "+--------+-----------+-----------+-----------+-----------+----------+----------+----------+\n",
      "only showing top 20 rows\n",
      "\n"
     ]
    },
    {
     "name": "stderr",
     "output_type": "stream",
     "text": [
      "                                                                                \r"
     ]
    }
   ],
   "source": [
    "Hours = Business.select(\"ID_Hours\", \"business_id\")\n",
    "Hours = Hours.join(business_source.select(\"business_id\", \"hours\"), on=\"business_id\")\n",
    "Hours = Hours.withColumn(\"Monday\", col(\"hours\")[\"Monday\"])\n",
    "Hours = Hours.withColumn(\"Tuesday\", col(\"hours\")[\"Tuesday\"])\n",
    "Hours = Hours.withColumn(\"Wednesday\", col(\"hours\")[\"Wednesday\"])\n",
    "Hours = Hours.withColumn(\"Thursday\", col(\"hours\")[\"Thursday\"])\n",
    "Hours = Hours.withColumn(\"Friday\", col(\"hours\")[\"Friday\"])\n",
    "Hours = Hours.withColumn(\"Saturday\", col(\"hours\")[\"Saturday\"])\n",
    "Hours = Hours.withColumn(\"Sunday\", col(\"hours\")[\"Sunday\"])\n",
    "Hours = Hours.drop(\"hours\")\n",
    "Hours = Hours.drop(\"business_id\")\n",
    "Hours.show()"
   ]
  }
 ],
 "metadata": {
  "kernelspec": {
   "display_name": "venv",
   "language": "python",
   "name": "python3"
  },
  "language_info": {
   "codemirror_mode": {
    "name": "ipython",
    "version": 3
   },
   "file_extension": ".py",
   "mimetype": "text/x-python",
   "name": "python",
   "nbconvert_exporter": "python",
   "pygments_lexer": "ipython3",
   "version": "3.11.2"
  }
 },
 "nbformat": 4,
 "nbformat_minor": 2
}
