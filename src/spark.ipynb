{
 "cells": [
  {
   "cell_type": "code",
   "execution_count": 2,
   "metadata": {},
   "outputs": [
    {
     "name": "stderr",
     "output_type": "stream",
     "text": [
      "/home4/tc737978/Documents/M2/Machine Learning/TD/TD1/venv/lib/python3.11/site-packages/pyspark/pandas/__init__.py:50: UserWarning: 'PYARROW_IGNORE_TIMEZONE' environment variable was not set. It is required to set this environment variable to '1' in both driver and executor sides if you use pyarrow>=2.0.0. pandas-on-Spark will set it for you but it does not work if there is a Spark context already launched.\n",
      "  warnings.warn(\n"
     ]
    }
   ],
   "source": [
    "from pyspark.sql import SparkSession\n",
    "from pyspark.sql.functions import *\n",
    "from pyspark.sql.types import *\n",
    "from pyspark.sql.functions import split, explode\n",
    "from pyspark.sql.functions import *\n",
    "import pandas as pd\n",
    "import pyspark.pandas as ps"
   ]
  },
  {
   "cell_type": "markdown",
   "metadata": {},
   "source": [
    "## Initialisation de Spark"
   ]
  },
  {
   "cell_type": "code",
   "execution_count": 3,
   "metadata": {},
   "outputs": [
    {
     "name": "stderr",
     "output_type": "stream",
     "text": [
      "25/02/20 13:24:44 WARN NativeCodeLoader: Unable to load native-hadoop library for your platform... using builtin-java classes where applicable\n",
      "Setting default log level to \"WARN\".\n",
      "To adjust logging level use sc.setLogLevel(newLevel). For SparkR, use setLogLevel(newLevel).\n"
     ]
    }
   ],
   "source": [
    "spark = SparkSession.builder.appName(\"Projet InfoD\").config(\"spark.jars\", \"/home1/tc737978/Documents/M2/Info décisionnelle/postgresql-42.7.5.jar\").getOrCreate()\n",
    "spark.conf.set('spark.sql.repl.eagerEval.enabled', True)\n"
   ]
  },
  {
   "cell_type": "markdown",
   "metadata": {},
   "source": [
    "## Chargement des données"
   ]
  },
  {
   "cell_type": "code",
   "execution_count": 4,
   "metadata": {},
   "outputs": [
    {
     "name": "stderr",
     "output_type": "stream",
     "text": [
      "                                                                                \r"
     ]
    }
   ],
   "source": [
    "tip = spark.read.csv(\"yelp_academic_dataset_tip.csv\", header=True, inferSchema=True)\n",
    "business_source = pd.read_json(\"yelp_academic_dataset_business.json\", lines=True)\n",
    "checkin = spark.read.json(\"yelp_academic_dataset_checkin.json\")\n",
    "reviews = spark.read.jdbc(\"jdbc:postgresql://stendhal:5432/tpid2020\", \"yelp.review\", properties={\"user\": \"tpid\", \"password\": \"tpid\", \"driver\": \"org.postgresql.Driver\"})"
   ]
  },
  {
   "cell_type": "code",
   "execution_count": 4,
   "metadata": {},
   "outputs": [
    {
     "name": "stdout",
     "output_type": "stream",
     "text": [
      "+--------------------+----------------+-------------------+--------------------+--------------------+\n",
      "|         business_id|compliment_count|               date|                text|             user_id|\n",
      "+--------------------+----------------+-------------------+--------------------+--------------------+\n",
      "|UYX5zL_Xj9WEc_Wp-...|               0|2013-11-26 18:20:08|Here for a quick mtg|hf27xTME3EiCp6NL6...|\n",
      "|Ch3HkwQYv1YKw_FO0...|               0|2014-06-15 22:26:45|Cucumber strawber...|uEvusDwoSymbJJ0au...|\n",
      "|rDoT-MgxGRiYqCmi0...|               0|2016-07-18 22:03:42|Very nice good se...|AY-laIws3S7YXNl_f...|\n",
      "|OHXnDV01gLokiX1EL...|               0|2014-06-06 01:10:34|It's a small plac...|Ue_7yUlkEbX4AhnYd...|\n",
      "|GMrwDXRlAZU2zj5nH...|               0|2011-04-08 18:12:01|8 sandwiches, $24...|LltbT_fUMqZ-ZJP-v...|\n",
      "|ALwAlxItASeEs2vYA...|               0|2015-05-20 20:17:38|Great ramen! Not ...|HHNBqfbDR8b1iq-QG...|\n",
      "|d_L-rfS1vT3JMzgCU...|               0|2014-09-01 01:23:48|Cochinita Pibil w...|r0j4IpUbcdC1-HfoM...|\n",
      "|5FIOXmUE3qMviX9Ga...|               0|2010-01-30 02:03:16|Get a tsoynami fo...|gxVQZJVeKBUk7jEhS...|\n",
      "|rcaPajgKOJC2vo_l3...|               0|2012-05-29 02:05:56|Kelly is an aweso...|2hdR7KYAmnCk2FjTn...|\n",
      "|hfBrethLHS9iXeBNR...|               0|2011-09-30 18:38:47|Check out the gre...|DsWg3leomfasGs3j0...|\n",
      "|_98ytLdlPEDp0FTuO...|               0|2012-10-14 02:11:37|Girls night at a ...|dLWDy4yzVzMQuhjoE...|\n",
      "|ow3oP3cfmhlfmSsGa...|               0|2013-08-16 15:14:22|Lovely locale, go...|SF83eQjb7XUiXuZVz...|\n",
      "|gG9z6zr_49LocyCTv...|               0|2014-06-14 00:44:00|Just be ready to ...|oLHQ-31LcRobRxjRU...|\n",
      "|w8RWhhuKxMiFCpvFv...|               0|2010-11-22 04:59:53|The Pure Chocolat...|jOW3BGthCDL3l7Dd6...|\n",
      "|-ed0Yc9on37RoIoG2...|               0|2014-04-07 06:29:58|If there's a wait...|jJtMKVIUzdDG4xagI...|\n",
      "|-wDNRL4lm1UgeFLG9...|               0|2016-04-19 09:33:45|Great food. Been ...|XhGn2quN9IzMI4HkM...|\n",
      "|aLcFhMe6DDJ430zel...|               0|2012-03-16 02:02:27|Must book your table|K3bzEv1h7CP-B92bN...|\n",
      "|yDWYuIDfXHckdJM5f...|               0|2013-02-14 05:50:30|Great guy!  Aweso...|aqc3CnsHVD177hfh3...|\n",
      "|UbSa8ddKsvMZgodku...|               0|2014-08-28 21:40:22|Quiet, relaxed, f...|141lhbCGhduUaFs17...|\n",
      "|XC06xxb7FFYsXcI2E...|               0|2017-07-20 19:29:39|Make a reservatio...|BpJygDyhzDf7Pw1Is...|\n",
      "+--------------------+----------------+-------------------+--------------------+--------------------+\n",
      "only showing top 20 rows\n",
      "\n"
     ]
    }
   ],
   "source": [
    "tip.show()"
   ]
  },
  {
   "cell_type": "code",
   "execution_count": 5,
   "metadata": {},
   "outputs": [
    {
     "name": "stderr",
     "output_type": "stream",
     "text": [
      "25/02/20 13:25:11 WARN TaskSetManager: Stage 3 contains a task of very large size (9780 KiB). The maximum recommended task size is 1000 KiB.\n"
     ]
    },
    {
     "name": "stdout",
     "output_type": "stream",
     "text": [
      "+--------------------+--------------------+--------------------+---------------+-----+-----------+-------------+---------------+-----+------------+-------+--------------------+--------------------+--------------------+\n",
      "|         business_id|                name|             address|           city|state|postal_code|     latitude|      longitude|stars|review_count|is_open|          attributes|          categories|               hours|\n",
      "+--------------------+--------------------+--------------------+---------------+-----+-----------+-------------+---------------+-----+------------+-------+--------------------+--------------------+--------------------+\n",
      "|f9NumwFMBDn751xgF...|The Range At Lake...|     10913 Bailey Rd|      Cornelius|   NC|      28031|   35.4627242|    -80.8526119|  3.5|          36|      1|{BikeParking -> T...|Active Life, Gun/...|{Thursday -> 11:0...|\n",
      "|Yzvjg0SayhoZgCljU...|   Carlos Santo, NMD|8880 E Via Linda,...|     Scottsdale|   AZ|      85258|   33.5694041|   -111.8902637|  5.0|           4|      1|{ByAppointmentOnl...|Health & Medical,...|                NULL|\n",
      "|XNoUzKckATkOD1hP6...|             Felinus|3554 Rue Notre-Da...|       Montreal|   QC|    H4C 1P4|    45.479984|      -73.58007|  5.0|           5|      1|                NULL|Pets, Pet Service...|                NULL|\n",
      "|6OAZjbxqM5ol29BuH...|Nevada House of Hose|      1015 Sharp Cir|North Las Vegas|   NV|      89030|   36.2197281|   -115.1277255|  2.5|           3|      0|{BikeParking -> T...|Hardware Stores, ...|{Tuesday -> 7:0-1...|\n",
      "|51M2Kk903DFYI6gnB...|USE MY GUY SERVIC...|  4827 E Downing Cir|           Mesa|   AZ|      85205|   33.4280652|   -111.7266485|  4.5|          26|      1|{ByAppointmentOnl...|Home Services, Pl...|{Tuesday -> 9:0-1...|\n",
      "|cKyLV5oWZJ2NudWgq...|Oasis Auto Center...|1720 W Elliot Rd,...|        Gilbert|   AZ|      85233|   33.3503993|   -111.8271417|  4.5|          38|      1|{BusinessAcceptsC...|Auto Repair, Auto...|{Thursday -> 7:0-...|\n",
      "|oiAlXZPIFm2nBCt0D...|Green World Cleaners|6870 S Rainbow Bl...|      Las Vegas|   NV|      89118|   36.0639767|    -115.241463|  3.5|          81|      1|{BikeParking -> T...|Dry Cleaning & La...|{Thursday -> 7:0-...|\n",
      "|ScYkbYNkDgCneBrD9...|Junction Tire & A...| 6910 E Southern Ave|           Mesa|   AZ|      85209|   33.3938847|   -111.6822257|  5.0|          18|      1|{ByAppointmentOnl...|Auto Repair, Oil ...|{Thursday -> 7:30...|\n",
      "|pQeaRpvuhoEqudo3u...| The Empanadas House|      404 E Green St|      Champaign|   IL|      61820|   40.1104457|    -88.2330726|  4.5|           5|      1|{BikeParking -> F...|Ethnic Food, Food...|{Tuesday -> 11:30...|\n",
      "|EosRKXIGeSWFYWwpk...|      Xtreme Couture|700 Kipling Avenu...|        Toronto|   ON|    M8Z 5G3|43.6245394916| -79.5291079302|  3.0|          16|      1|{BikeParking -> F...|Martial Arts, Gym...|{Thursday -> 5:30...|\n",
      "|MbZMmwo-eL0Jnm_Yb...|Chinook Landscapi...|                    |        Calgary|   AB|    T2J 2P2|   50.9459599|   -114.0372072|  5.0|           3|      1|                NULL|Contractors, Land...|{Thursday -> 7:0-...|\n",
      "|7Dv4_HAxsxvadEsT5...|Dependable Brakes...|1110 Saw Mill Run...|     Pittsburgh|   PA|      15226|   40.4066674|    -80.0044502|  5.0|           5|      1|{BusinessAcceptsC...|Automotive, Auto ...|{Tuesday -> 8:0-1...|\n",
      "|M_guz7Dj7hX0evS67...|Chocolate Shoppe ...|   2831 Parmenter St|      Middleton|   WI|      53562|43.1053100891| -89.5101417974|  3.5|           6|      1|{BikeParking -> T...|Desserts, Food, I...|{Thursday -> 11:0...|\n",
      "|JjJs3o60uQCfctDjs...|        Convertabath|116 N Roosevelt A...|       Chandler|   AZ|      85226|   33.3038687|   -111.9516598|  2.5|          10|      1|{ByAppointmentOnl...|Contractors, Home...|{Tuesday -> 9:0-1...|\n",
      "|kOICO53wbOiOJcKuC...|       Tan Las Vegas|     5465 Simmons St|North Las Vegas|   NV|      89031|    36.263362|   -115.1798386|  3.5|           5|      0|{ByAppointmentOnl...|Beauty & Spas, Ta...|{Thursday -> 8:0-...|\n",
      "|rqcOZePlVvJP9Etzl...|      Desert Storage|     2402 Atchley Dr|      Henderson|   NV|      89052|   35.9520457|   -115.0934834|  5.0|           5|      0|{BusinessAcceptsC...|Local Services, S...|{Thursday -> 8:0-...|\n",
      "|uZuh51lXu7tsrC8RA...|      Manolo Blahnik| 3131 Las Vegas Blvd|      Las Vegas|   NV|      89109|36.1257322229|-115.1676084101|  4.5|          32|      0|{BikeParking -> T...|Shopping, Shoe St...|                NULL|\n",
      "|nIEhsGbw0vJuYl05b...|   Bloom & Blueprint|2115 E Cedar St, ...|          Tempe|   AZ|      85281|   33.4115139|   -111.8953784|  4.5|           7|      1|{RestaurantsDeliv...|Event Planning & ...|                NULL|\n",
      "|edQoeeBFUTYGwnUSE...|            Car Guyz|      2915 Cherry Rd|      Rock Hill|   SC|      29730|   34.9811205|    -80.9790228|  4.5|          10|      1|{BusinessAcceptsC...|Auto Customizatio...|{Thursday -> 8:0-...|\n",
      "|Vwo64kNYDjKi98gUU...|Gateway Fit Body ...|     5229 S Power Rd|           Mesa|   AZ|      85212|   33.3207235|   -111.6858686|  4.5|          16|      1|{BikeParking -> T...|Weight Loss Cente...|{Thursday -> 5:30...|\n",
      "+--------------------+--------------------+--------------------+---------------+-----+-----------+-------------+---------------+-----+------------+-------+--------------------+--------------------+--------------------+\n",
      "only showing top 20 rows\n",
      "\n"
     ]
    }
   ],
   "source": [
    "business_source = spark.createDataFrame(business_source)\n",
    "business_source.show()"
   ]
  },
  {
   "cell_type": "code",
   "execution_count": 5,
   "metadata": {},
   "outputs": [
    {
     "name": "stdout",
     "output_type": "stream",
     "text": [
      "+--------------------+--------------------+\n",
      "|         business_id|                date|\n",
      "+--------------------+--------------------+\n",
      "|--1UhMGODdWsrMast...|2016-04-26 19:49:...|\n",
      "|--6MefnULPED_I942...|2011-06-04 18:22:...|\n",
      "|--7zmmkVg-IMGaXbu...|2014-12-29 19:25:...|\n",
      "|--8LPVSo5i0Oo61X0...| 2016-07-08 16:43:30|\n",
      "|--9QQLMTbFzLJ_oT-...|2010-06-26 17:39:...|\n",
      "|--9e1ONYQuAa-CB_R...|2010-02-08 05:56:...|\n",
      "|--DaPTJW3-tB1vP-P...|2012-06-03 17:46:...|\n",
      "|--DdmeR16TRb3LsjG...|2012-11-02 21:26:...|\n",
      "|--EF5N7P70J_UYBTP...|2018-05-25 19:52:...|\n",
      "|--EX4rRznJrltyn-3...|2010-02-26 17:05:...|\n",
      "|--FBCX-N37CMYDfs7...|2010-05-31 07:57:...|\n",
      "|--FLdgM0GNpXVMn74...|2012-10-23 18:47:...|\n",
      "|--FnvijzY20d1nk9H...|2019-09-19 02:42:...|\n",
      "|--GM_ORV2cYS-h38D...|2011-09-11 18:16:...|\n",
      "|--I7YYLada0tSLkOR...|2014-11-07 00:51:...|\n",
      "|--KCl2FvVQpvjzmZS...|2011-07-29 16:53:...|\n",
      "|--KQsXc-clkO7oHRq...|2010-05-02 23:57:...|\n",
      "|--Ni3oJ4VOqfOEu7S...| 2019-06-07 17:54:58|\n",
      "|--Rsj71PBe31h5Ylj...|2011-12-15 18:09:...|\n",
      "|--S62v0QgkqQaVUhF...|2010-12-25 07:04:...|\n",
      "+--------------------+--------------------+\n",
      "only showing top 20 rows\n",
      "\n"
     ]
    }
   ],
   "source": [
    "checkin.show()"
   ]
  },
  {
   "cell_type": "code",
   "execution_count": null,
   "metadata": {},
   "outputs": [],
   "source": [
    "reviews.show()"
   ]
  },
  {
   "cell_type": "markdown",
   "metadata": {},
   "source": [
    "## Création des dataframes"
   ]
  },
  {
   "cell_type": "markdown",
   "metadata": {},
   "source": [
    "### Business"
   ]
  },
  {
   "cell_type": "code",
   "execution_count": 7,
   "metadata": {},
   "outputs": [
    {
     "name": "stdout",
     "output_type": "stream",
     "text": [
      "+--------------------+------------+-------------+--------+---------------+----------+\n",
      "|         business_id|ID_Categorie|ID_Attributes|ID_Hours|ID_Localisation|ID_Reviews|\n",
      "+--------------------+------------+-------------+--------+---------------+----------+\n",
      "|f9NumwFMBDn751xgF...|           0|            0|       0|              0|         0|\n",
      "|Yzvjg0SayhoZgCljU...|           1|            1|       1|              1|         1|\n",
      "|XNoUzKckATkOD1hP6...|           2|            2|       2|              2|         2|\n",
      "|6OAZjbxqM5ol29BuH...|           3|            3|       3|              3|         3|\n",
      "|51M2Kk903DFYI6gnB...|           4|            4|       4|              4|         4|\n",
      "|cKyLV5oWZJ2NudWgq...|           5|            5|       5|              5|         5|\n",
      "|oiAlXZPIFm2nBCt0D...|           6|            6|       6|              6|         6|\n",
      "|ScYkbYNkDgCneBrD9...|           7|            7|       7|              7|         7|\n",
      "|pQeaRpvuhoEqudo3u...|           8|            8|       8|              8|         8|\n",
      "|EosRKXIGeSWFYWwpk...|           9|            9|       9|              9|         9|\n",
      "|MbZMmwo-eL0Jnm_Yb...|          10|           10|      10|             10|        10|\n",
      "|7Dv4_HAxsxvadEsT5...|          11|           11|      11|             11|        11|\n",
      "|M_guz7Dj7hX0evS67...|          12|           12|      12|             12|        12|\n",
      "|JjJs3o60uQCfctDjs...|          13|           13|      13|             13|        13|\n",
      "|kOICO53wbOiOJcKuC...|          14|           14|      14|             14|        14|\n",
      "|rqcOZePlVvJP9Etzl...|          15|           15|      15|             15|        15|\n",
      "|uZuh51lXu7tsrC8RA...|          16|           16|      16|             16|        16|\n",
      "|nIEhsGbw0vJuYl05b...|          17|           17|      17|             17|        17|\n",
      "|edQoeeBFUTYGwnUSE...|          18|           18|      18|             18|        18|\n",
      "|Vwo64kNYDjKi98gUU...|          19|           19|      19|             19|        19|\n",
      "+--------------------+------------+-------------+--------+---------------+----------+\n",
      "only showing top 20 rows\n",
      "\n"
     ]
    },
    {
     "name": "stderr",
     "output_type": "stream",
     "text": [
      "25/02/20 13:25:40 WARN TaskSetManager: Stage 4 contains a task of very large size (9780 KiB). The maximum recommended task size is 1000 KiB.\n"
     ]
    }
   ],
   "source": [
    "Business = business_source.select(\"business_id\")\n",
    "Business = Business.withColumn(\"ID_Categorie\", monotonically_increasing_id())\n",
    "Business = Business.withColumn(\"ID_Attributes\", monotonically_increasing_id())\n",
    "Business = Business.withColumn(\"ID_Hours\", monotonically_increasing_id())\n",
    "Business = Business.withColumn(\"ID_Localisation\", monotonically_increasing_id())\n",
    "Business = Business.withColumn(\"ID_Reviews\", monotonically_increasing_id())\n",
    "Business.show()\n"
   ]
  },
  {
   "cell_type": "markdown",
   "metadata": {},
   "source": [
    "### Localisation"
   ]
  },
  {
   "cell_type": "code",
   "execution_count": 6,
   "metadata": {},
   "outputs": [
    {
     "name": "stdout",
     "output_type": "stream",
     "text": [
      "+--------------------+---------------+-----+-----------+-------------+---------------+---+-------+\n",
      "|             address|           city|state|postal_code|     latitude|      longitude| id|country|\n",
      "+--------------------+---------------+-----+-----------+-------------+---------------+---+-------+\n",
      "|     10913 Bailey Rd|      Cornelius|   NC|      28031|   35.4627242|    -80.8526119|  0|    USA|\n",
      "|8880 E Via Linda,...|     Scottsdale|   AZ|      85258|   33.5694041|   -111.8902637|  1|    USA|\n",
      "|3554 Rue Notre-Da...|       Montreal|   QC|    H4C 1P4|    45.479984|      -73.58007|  2|    CAN|\n",
      "|      1015 Sharp Cir|North Las Vegas|   NV|      89030|   36.2197281|   -115.1277255|  3|    USA|\n",
      "|  4827 E Downing Cir|           Mesa|   AZ|      85205|   33.4280652|   -111.7266485|  4|    USA|\n",
      "|1720 W Elliot Rd,...|        Gilbert|   AZ|      85233|   33.3503993|   -111.8271417|  5|    USA|\n",
      "|6870 S Rainbow Bl...|      Las Vegas|   NV|      89118|   36.0639767|    -115.241463|  6|    USA|\n",
      "| 6910 E Southern Ave|           Mesa|   AZ|      85209|   33.3938847|   -111.6822257|  7|    USA|\n",
      "|      404 E Green St|      Champaign|   IL|      61820|   40.1104457|    -88.2330726|  8|    USA|\n",
      "|700 Kipling Avenu...|        Toronto|   ON|    M8Z 5G3|43.6245394916| -79.5291079302|  9|    CAN|\n",
      "|                    |        Calgary|   AB|    T2J 2P2|   50.9459599|   -114.0372072| 10|    CAN|\n",
      "|1110 Saw Mill Run...|     Pittsburgh|   PA|      15226|   40.4066674|    -80.0044502| 11|    USA|\n",
      "|   2831 Parmenter St|      Middleton|   WI|      53562|43.1053100891| -89.5101417974| 12|    USA|\n",
      "|116 N Roosevelt A...|       Chandler|   AZ|      85226|   33.3038687|   -111.9516598| 13|    USA|\n",
      "|     5465 Simmons St|North Las Vegas|   NV|      89031|    36.263362|   -115.1798386| 14|    USA|\n",
      "|     2402 Atchley Dr|      Henderson|   NV|      89052|   35.9520457|   -115.0934834| 15|    USA|\n",
      "| 3131 Las Vegas Blvd|      Las Vegas|   NV|      89109|36.1257322229|-115.1676084101| 16|    USA|\n",
      "|2115 E Cedar St, ...|          Tempe|   AZ|      85281|   33.4115139|   -111.8953784| 17|    USA|\n",
      "|      2915 Cherry Rd|      Rock Hill|   SC|      29730|   34.9811205|    -80.9790228| 18|    USA|\n",
      "|     5229 S Power Rd|           Mesa|   AZ|      85212|   33.3207235|   -111.6858686| 19|    USA|\n",
      "+--------------------+---------------+-----+-----------+-------------+---------------+---+-------+\n",
      "only showing top 20 rows\n",
      "\n"
     ]
    },
    {
     "name": "stderr",
     "output_type": "stream",
     "text": [
      "25/02/20 13:10:22 WARN TaskSetManager: Stage 5 contains a task of very large size (9780 KiB). The maximum recommended task size is 1000 KiB.\n"
     ]
    }
   ],
   "source": [
    "Localisation = business_source.select(\"address\", \"city\", \"state\", \"postal_code\", \"latitude\", \"longitude\")\n",
    "Localisation = Localisation.withColumn(\"id\", monotonically_increasing_id())\n",
    "Localisation = Localisation.withColumn(\"country\", \\\n",
    "                        when(Localisation[\"state\"] == \"NC\", \"USA\") \\\n",
    "                        .when(Localisation[\"state\"] == \"AZ\", \"USA\") \\\n",
    "                        .when(Localisation[\"state\"] == \"QC\", \"CAN\") \\\n",
    "                        .when(Localisation[\"state\"] == \"NV\", \"USA\") \\\n",
    "                        .when(Localisation[\"state\"] == \"IL\", \"USA\") \\\n",
    "                        .when(Localisation[\"state\"] == \"ON\", \"CAN\") \\\n",
    "                        .when(Localisation[\"state\"] == \"AB\", \"CAN\") \\\n",
    "                        .when(Localisation[\"state\"] == \"PA\", \"USA\") \\\n",
    "                        .when(Localisation[\"state\"] == \"WI\", \"USA\") \\\n",
    "                        .when(Localisation[\"state\"] == \"SC\", \"USA\") \\\n",
    "                        .when(Localisation[\"state\"] == \"OH\", \"USA\") \\\n",
    "                        .when(Localisation[\"state\"] == \"CA\", \"USA\") \\\n",
    "                        .when(Localisation[\"state\"] == \"TX\", \"USA\") \\\n",
    "                        .when(Localisation[\"state\"] == \"NY\", \"USA\") \\\n",
    "                        .when(Localisation[\"state\"] == \"CO\", \"USA\") \\\n",
    "                        .when(Localisation[\"state\"] == \"XWY\", \"USA\") \\\n",
    "                        .when(Localisation[\"state\"] == \"GA\", \"USA\") \\\n",
    "                        .when(Localisation[\"state\"] == \"BC\", \"CAN\") \\\n",
    "                        .when(Localisation[\"state\"] == \"YT\", \"CAN\") \\\n",
    "                        .when(Localisation[\"state\"] == \"HPL\", \"USA\") \\\n",
    "                        .when(Localisation[\"state\"] == \"AL\", \"USA\") \\\n",
    "                        .when(Localisation[\"state\"] == \"UT\", \"USA\") \\\n",
    "                        .when(Localisation[\"state\"] == \"VT\", \"USA\") \\\n",
    "                        .when(Localisation[\"state\"] == \"WA\", \"USA\") \\\n",
    "                        .when(Localisation[\"state\"] == \"NE\", \"USA\") \\\n",
    "                        .when(Localisation[\"state\"] == \"DOW\", \"USA\") \\\n",
    "                        .when(Localisation[\"state\"] == \"MI\", \"USA\") \\\n",
    "                        .when(Localisation[\"state\"] == \"FL\", \"USA\") \\\n",
    "                        .when(Localisation[\"state\"] == \"AR\", \"USA\") \\\n",
    "                        .when(Localisation[\"state\"] == \"HI\", \"USA\") \\\n",
    "                        .when(Localisation[\"state\"] == \"MB\", \"CAN\") \\\n",
    "                        .when(Localisation[\"state\"] == \"OR\", \"USA\") \\\n",
    "                        .when(Localisation[\"state\"] == \"AK\", \"USA\") \\\n",
    "                        .when(Localisation[\"state\"] == \"VA\", \"USA\") \\\n",
    "                        .when(Localisation[\"state\"] == \"CT\", \"USA\") \\\n",
    "                        .when(Localisation[\"state\"] == \"MO\", \"USA\") \\\n",
    "                        .when(Localisation[\"state\"] == \"DUR\", \"USA\") \\\n",
    "                        .otherwise(\"Unknown\"))\n",
    "Localisation.show()"
   ]
  },
  {
   "cell_type": "markdown",
   "metadata": {},
   "source": [
    "### Reviews"
   ]
  },
  {
   "cell_type": "code",
   "execution_count": 10,
   "metadata": {},
   "outputs": [],
   "source": [
    "Reviews = spark.createDataFrame(spark.sparkContext.emptyRDD(), schema=business_source.schema)"
   ]
  },
  {
   "cell_type": "markdown",
   "metadata": {},
   "source": [
    "### Year"
   ]
  },
  {
   "cell_type": "code",
   "execution_count": null,
   "metadata": {},
   "outputs": [],
   "source": []
  },
  {
   "cell_type": "markdown",
   "metadata": {},
   "source": [
    "### Categories"
   ]
  },
  {
   "cell_type": "code",
   "execution_count": 7,
   "metadata": {},
   "outputs": [
    {
     "name": "stdout",
     "output_type": "stream",
     "text": [
      "+------------+\n",
      "|ID_Categorie|\n",
      "+------------+\n",
      "|           0|\n",
      "|           1|\n",
      "|           2|\n",
      "|           3|\n",
      "|           4|\n",
      "|           5|\n",
      "|           6|\n",
      "|           7|\n",
      "|           8|\n",
      "|           9|\n",
      "|          10|\n",
      "|          11|\n",
      "|          12|\n",
      "|          13|\n",
      "|          14|\n",
      "|          15|\n",
      "|          16|\n",
      "|          17|\n",
      "|          18|\n",
      "|          19|\n",
      "+------------+\n",
      "only showing top 20 rows\n",
      "\n"
     ]
    },
    {
     "name": "stderr",
     "output_type": "stream",
     "text": [
      "25/02/20 13:10:39 WARN TaskSetManager: Stage 6 contains a task of very large size (9780 KiB). The maximum recommended task size is 1000 KiB.\n"
     ]
    }
   ],
   "source": [
    "Categories = Business.select(\"ID_Categorie\")\n",
    "Categories.show()\n"
   ]
  },
  {
   "cell_type": "markdown",
   "metadata": {},
   "source": [
    "### Categories_List"
   ]
  },
  {
   "cell_type": "code",
   "execution_count": 8,
   "metadata": {},
   "outputs": [
    {
     "name": "stderr",
     "output_type": "stream",
     "text": [
      "25/02/20 13:10:42 WARN TaskSetManager: Stage 7 contains a task of very large size (9780 KiB). The maximum recommended task size is 1000 KiB.\n",
      "25/02/20 13:10:44 WARN TaskSetManager: Stage 8 contains a task of very large size (9780 KiB). The maximum recommended task size is 1000 KiB.\n",
      "                                                                                \r"
     ]
    },
    {
     "name": "stdout",
     "output_type": "stream",
     "text": [
      "+------------+--------------------+\n",
      "|ID_Categorie|                Name|\n",
      "+------------+--------------------+\n",
      "|          12|            Desserts|\n",
      "|          12|                Food|\n",
      "|          12|Ice Cream & Froze...|\n",
      "|         219|            Shopping|\n",
      "|         219|     Decks & Railing|\n",
      "|         219|Paint-Your-Own Po...|\n",
      "|         219|       Arts & Crafts|\n",
      "|         219|           Cabinetry|\n",
      "|         219|       Home Services|\n",
      "|         219|          Carpenters|\n",
      "|         219|         Contractors|\n",
      "|         737|Garage Door Services|\n",
      "|         737|       Home Services|\n",
      "|         758|            Caterers|\n",
      "|         758|      Specialty Food|\n",
      "|         758|Event Planning & ...|\n",
      "|         758|      American (New)|\n",
      "|         758|         Food Trucks|\n",
      "|         758|American (Traditi...|\n",
      "|         758|         Restaurants|\n",
      "+------------+--------------------+\n",
      "only showing top 20 rows\n",
      "\n"
     ]
    }
   ],
   "source": [
    "# Sélectionner les colonnes nécessaires\n",
    "categories_df = business_source.select(\"business_id\", \"categories\")\n",
    "\n",
    "# Transformer la colonne categories en liste\n",
    "categories_df = categories_df.withColumn(\"categories_list\", split(categories_df[\"categories\"], \", \"))\n",
    "\n",
    "# Exploser la liste des catégories pour obtenir une ligne par catégorie\n",
    "categories_list_df = categories_df.withColumn(\"category\", explode(categories_df[\"categories_list\"]))\n",
    "\n",
    "# Joindre avec le DataFrame Business pour obtenir les ID_Categorie\n",
    "categories_list_df = categories_list_df.join(Business, on=\"business_id\")\n",
    "\n",
    "# Sélectionner les colonnes finales et renommer\n",
    "Categories_List = categories_list_df.select(col(\"ID_Categorie\"), col(\"category\").alias(\"Name\"))\n",
    "\n",
    "# Afficher le DataFrame final\n",
    "Categories_List.show()\n"
   ]
  },
  {
   "cell_type": "markdown",
   "metadata": {},
   "source": [
    "### Attributes"
   ]
  },
  {
   "cell_type": "code",
   "execution_count": 8,
   "metadata": {},
   "outputs": [
    {
     "name": "stdout",
     "output_type": "stream",
     "text": [
      "+-------------+\n",
      "|ID_Attributes|\n",
      "+-------------+\n",
      "|            0|\n",
      "|            1|\n",
      "|            2|\n",
      "|            3|\n",
      "|            4|\n",
      "|            5|\n",
      "|            6|\n",
      "|            7|\n",
      "|            8|\n",
      "|            9|\n",
      "|           10|\n",
      "|           11|\n",
      "|           12|\n",
      "|           13|\n",
      "|           14|\n",
      "|           15|\n",
      "|           16|\n",
      "|           17|\n",
      "|           18|\n",
      "|           19|\n",
      "+-------------+\n",
      "only showing top 20 rows\n",
      "\n"
     ]
    },
    {
     "name": "stderr",
     "output_type": "stream",
     "text": [
      "25/02/20 13:25:50 WARN TaskSetManager: Stage 5 contains a task of very large size (9780 KiB). The maximum recommended task size is 1000 KiB.\n"
     ]
    }
   ],
   "source": [
    "Attributes = Business.select(\"ID_Attributes\")\n",
    "Attributes.show()"
   ]
  },
  {
   "cell_type": "markdown",
   "metadata": {},
   "source": [
    "### Attributes_List"
   ]
  },
  {
   "cell_type": "code",
   "execution_count": 14,
   "metadata": {},
   "outputs": [
    {
     "name": "stdout",
     "output_type": "stream",
     "text": [
      "+--------------------+--------------------+\n",
      "|         business_id|          attributes|\n",
      "+--------------------+--------------------+\n",
      "|f9NumwFMBDn751xgF...|{BikeParking -> T...|\n",
      "|Yzvjg0SayhoZgCljU...|{ByAppointmentOnl...|\n",
      "|XNoUzKckATkOD1hP6...|                NULL|\n",
      "|6OAZjbxqM5ol29BuH...|{BikeParking -> T...|\n",
      "|51M2Kk903DFYI6gnB...|{ByAppointmentOnl...|\n",
      "|cKyLV5oWZJ2NudWgq...|{BusinessAcceptsC...|\n",
      "|oiAlXZPIFm2nBCt0D...|{BikeParking -> T...|\n",
      "|ScYkbYNkDgCneBrD9...|{ByAppointmentOnl...|\n",
      "|pQeaRpvuhoEqudo3u...|{BikeParking -> F...|\n",
      "|EosRKXIGeSWFYWwpk...|{BikeParking -> F...|\n",
      "|MbZMmwo-eL0Jnm_Yb...|                NULL|\n",
      "|7Dv4_HAxsxvadEsT5...|{BusinessAcceptsC...|\n",
      "|M_guz7Dj7hX0evS67...|{BikeParking -> T...|\n",
      "|JjJs3o60uQCfctDjs...|{ByAppointmentOnl...|\n",
      "|kOICO53wbOiOJcKuC...|{ByAppointmentOnl...|\n",
      "|rqcOZePlVvJP9Etzl...|{BusinessAcceptsC...|\n",
      "|uZuh51lXu7tsrC8RA...|{BikeParking -> T...|\n",
      "|nIEhsGbw0vJuYl05b...|{RestaurantsDeliv...|\n",
      "|edQoeeBFUTYGwnUSE...|{BusinessAcceptsC...|\n",
      "|Vwo64kNYDjKi98gUU...|{BikeParking -> T...|\n",
      "+--------------------+--------------------+\n",
      "only showing top 20 rows\n",
      "\n",
      "root\n",
      " |-- business_id: string (nullable = true)\n",
      " |-- attributes: map (nullable = true)\n",
      " |    |-- key: string\n",
      " |    |-- value: string (valueContainsNull = true)\n",
      "\n"
     ]
    },
    {
     "name": "stderr",
     "output_type": "stream",
     "text": [
      "25/02/20 13:31:31 WARN TaskSetManager: Stage 6 contains a task of very large size (9780 KiB). The maximum recommended task size is 1000 KiB.\n"
     ]
    }
   ],
   "source": [
    "#Sélectionner les colonnes nécessaires\n",
    "attributes_df = business_source.select(\"business_id\", \"attributes\")\n",
    "attributes_df.show()\n",
    "attributes_df.printSchema()"
   ]
  },
  {
   "cell_type": "code",
   "execution_count": 16,
   "metadata": {},
   "outputs": [
    {
     "name": "stdout",
     "output_type": "stream",
     "text": [
      "+--------------------+----+\n",
      "|         business_id| key|\n",
      "+--------------------+----+\n",
      "|f9NumwFMBDn751xgF...|NULL|\n",
      "|Yzvjg0SayhoZgCljU...|NULL|\n",
      "|XNoUzKckATkOD1hP6...|NULL|\n",
      "|6OAZjbxqM5ol29BuH...|NULL|\n",
      "|51M2Kk903DFYI6gnB...|NULL|\n",
      "|cKyLV5oWZJ2NudWgq...|NULL|\n",
      "|oiAlXZPIFm2nBCt0D...|NULL|\n",
      "|ScYkbYNkDgCneBrD9...|NULL|\n",
      "|pQeaRpvuhoEqudo3u...|NULL|\n",
      "|EosRKXIGeSWFYWwpk...|NULL|\n",
      "|MbZMmwo-eL0Jnm_Yb...|NULL|\n",
      "|7Dv4_HAxsxvadEsT5...|NULL|\n",
      "|M_guz7Dj7hX0evS67...|NULL|\n",
      "|JjJs3o60uQCfctDjs...|NULL|\n",
      "|kOICO53wbOiOJcKuC...|NULL|\n",
      "|rqcOZePlVvJP9Etzl...|NULL|\n",
      "|uZuh51lXu7tsrC8RA...|NULL|\n",
      "|nIEhsGbw0vJuYl05b...|NULL|\n",
      "|edQoeeBFUTYGwnUSE...|NULL|\n",
      "|Vwo64kNYDjKi98gUU...|NULL|\n",
      "+--------------------+----+\n",
      "only showing top 20 rows\n",
      "\n",
      "+--------------------+-----+\n",
      "|         business_id|value|\n",
      "+--------------------+-----+\n",
      "|f9NumwFMBDn751xgF...| NULL|\n",
      "|Yzvjg0SayhoZgCljU...| NULL|\n",
      "|XNoUzKckATkOD1hP6...| NULL|\n",
      "|6OAZjbxqM5ol29BuH...| NULL|\n",
      "|51M2Kk903DFYI6gnB...| NULL|\n",
      "|cKyLV5oWZJ2NudWgq...| NULL|\n",
      "|oiAlXZPIFm2nBCt0D...| NULL|\n",
      "|ScYkbYNkDgCneBrD9...| NULL|\n",
      "|pQeaRpvuhoEqudo3u...| NULL|\n",
      "|EosRKXIGeSWFYWwpk...| NULL|\n",
      "|MbZMmwo-eL0Jnm_Yb...| NULL|\n",
      "|7Dv4_HAxsxvadEsT5...| NULL|\n",
      "|M_guz7Dj7hX0evS67...| NULL|\n",
      "|JjJs3o60uQCfctDjs...| NULL|\n",
      "|kOICO53wbOiOJcKuC...| NULL|\n",
      "|rqcOZePlVvJP9Etzl...| NULL|\n",
      "|uZuh51lXu7tsrC8RA...| NULL|\n",
      "|nIEhsGbw0vJuYl05b...| NULL|\n",
      "|edQoeeBFUTYGwnUSE...| NULL|\n",
      "|Vwo64kNYDjKi98gUU...| NULL|\n",
      "+--------------------+-----+\n",
      "only showing top 20 rows\n",
      "\n"
     ]
    },
    {
     "name": "stderr",
     "output_type": "stream",
     "text": [
      "25/02/20 13:40:34 WARN TaskSetManager: Stage 7 contains a task of very large size (9780 KiB). The maximum recommended task size is 1000 KiB.\n",
      "25/02/20 13:40:34 WARN TaskSetManager: Stage 8 contains a task of very large size (9780 KiB). The maximum recommended task size is 1000 KiB.\n"
     ]
    }
   ],
   "source": [
    "# Convertir la map en colonnes\n",
    "attributes_keys = attributes_df.select(\"business_id\", \"attributes.key\")\n",
    "attributes_values = attributes_df.select(\"business_id\", \"attributes.value\")\n",
    "attributes_keys.show()\n",
    "attributes_values.show()"
   ]
  },
  {
   "cell_type": "markdown",
   "metadata": {},
   "source": [
    "### Hours"
   ]
  },
  {
   "cell_type": "code",
   "execution_count": 12,
   "metadata": {},
   "outputs": [
    {
     "ename": "AnalysisException",
     "evalue": "Can only star expand struct data types. Attribute: `ArrayBuffer(hours)`.",
     "output_type": "error",
     "traceback": [
      "\u001b[0;31m---------------------------------------------------------------------------\u001b[0m",
      "\u001b[0;31mAnalysisException\u001b[0m                         Traceback (most recent call last)",
      "Cell \u001b[0;32mIn[12], line 1\u001b[0m\n\u001b[0;32m----> 1\u001b[0m Hours \u001b[38;5;241m=\u001b[39m \u001b[43mbusiness_source\u001b[49m\u001b[38;5;241;43m.\u001b[39;49m\u001b[43mselect\u001b[49m\u001b[43m(\u001b[49m\u001b[38;5;124;43m\"\u001b[39;49m\u001b[38;5;124;43mhours.*\u001b[39;49m\u001b[38;5;124;43m\"\u001b[39;49m\u001b[43m)\u001b[49m\n\u001b[1;32m      2\u001b[0m Hours \u001b[38;5;241m=\u001b[39m Hours\u001b[38;5;241m.\u001b[39mwithColumn(\u001b[38;5;124m\"\u001b[39m\u001b[38;5;124mid\u001b[39m\u001b[38;5;124m\"\u001b[39m, monotonically_increasing_id())\n\u001b[1;32m      3\u001b[0m Hours\u001b[38;5;241m.\u001b[39mshow()\n",
      "File \u001b[0;32m/home4/tc737978/Documents/M2/Machine Learning/TD/TD1/venv/lib/python3.11/site-packages/pyspark/sql/dataframe.py:3229\u001b[0m, in \u001b[0;36mDataFrame.select\u001b[0;34m(self, *cols)\u001b[0m\n\u001b[1;32m   3184\u001b[0m \u001b[38;5;28;01mdef\u001b[39;00m \u001b[38;5;21mselect\u001b[39m(\u001b[38;5;28mself\u001b[39m, \u001b[38;5;241m*\u001b[39mcols: \u001b[38;5;124m\"\u001b[39m\u001b[38;5;124mColumnOrName\u001b[39m\u001b[38;5;124m\"\u001b[39m) \u001b[38;5;241m-\u001b[39m\u001b[38;5;241m>\u001b[39m \u001b[38;5;124m\"\u001b[39m\u001b[38;5;124mDataFrame\u001b[39m\u001b[38;5;124m\"\u001b[39m:  \u001b[38;5;66;03m# type: ignore[misc]\u001b[39;00m\n\u001b[1;32m   3185\u001b[0m \u001b[38;5;250m    \u001b[39m\u001b[38;5;124;03m\"\"\"Projects a set of expressions and returns a new :class:`DataFrame`.\u001b[39;00m\n\u001b[1;32m   3186\u001b[0m \n\u001b[1;32m   3187\u001b[0m \u001b[38;5;124;03m    .. versionadded:: 1.3.0\u001b[39;00m\n\u001b[0;32m   (...)\u001b[0m\n\u001b[1;32m   3227\u001b[0m \u001b[38;5;124;03m    +-----+---+\u001b[39;00m\n\u001b[1;32m   3228\u001b[0m \u001b[38;5;124;03m    \"\"\"\u001b[39;00m\n\u001b[0;32m-> 3229\u001b[0m     jdf \u001b[38;5;241m=\u001b[39m \u001b[38;5;28;43mself\u001b[39;49m\u001b[38;5;241;43m.\u001b[39;49m\u001b[43m_jdf\u001b[49m\u001b[38;5;241;43m.\u001b[39;49m\u001b[43mselect\u001b[49m\u001b[43m(\u001b[49m\u001b[38;5;28;43mself\u001b[39;49m\u001b[38;5;241;43m.\u001b[39;49m\u001b[43m_jcols\u001b[49m\u001b[43m(\u001b[49m\u001b[38;5;241;43m*\u001b[39;49m\u001b[43mcols\u001b[49m\u001b[43m)\u001b[49m\u001b[43m)\u001b[49m\n\u001b[1;32m   3230\u001b[0m     \u001b[38;5;28;01mreturn\u001b[39;00m DataFrame(jdf, \u001b[38;5;28mself\u001b[39m\u001b[38;5;241m.\u001b[39msparkSession)\n",
      "File \u001b[0;32m/home4/tc737978/Documents/M2/Machine Learning/TD/TD1/venv/lib/python3.11/site-packages/py4j/java_gateway.py:1322\u001b[0m, in \u001b[0;36mJavaMember.__call__\u001b[0;34m(self, *args)\u001b[0m\n\u001b[1;32m   1316\u001b[0m command \u001b[38;5;241m=\u001b[39m proto\u001b[38;5;241m.\u001b[39mCALL_COMMAND_NAME \u001b[38;5;241m+\u001b[39m\\\n\u001b[1;32m   1317\u001b[0m     \u001b[38;5;28mself\u001b[39m\u001b[38;5;241m.\u001b[39mcommand_header \u001b[38;5;241m+\u001b[39m\\\n\u001b[1;32m   1318\u001b[0m     args_command \u001b[38;5;241m+\u001b[39m\\\n\u001b[1;32m   1319\u001b[0m     proto\u001b[38;5;241m.\u001b[39mEND_COMMAND_PART\n\u001b[1;32m   1321\u001b[0m answer \u001b[38;5;241m=\u001b[39m \u001b[38;5;28mself\u001b[39m\u001b[38;5;241m.\u001b[39mgateway_client\u001b[38;5;241m.\u001b[39msend_command(command)\n\u001b[0;32m-> 1322\u001b[0m return_value \u001b[38;5;241m=\u001b[39m \u001b[43mget_return_value\u001b[49m\u001b[43m(\u001b[49m\n\u001b[1;32m   1323\u001b[0m \u001b[43m    \u001b[49m\u001b[43manswer\u001b[49m\u001b[43m,\u001b[49m\u001b[43m \u001b[49m\u001b[38;5;28;43mself\u001b[39;49m\u001b[38;5;241;43m.\u001b[39;49m\u001b[43mgateway_client\u001b[49m\u001b[43m,\u001b[49m\u001b[43m \u001b[49m\u001b[38;5;28;43mself\u001b[39;49m\u001b[38;5;241;43m.\u001b[39;49m\u001b[43mtarget_id\u001b[49m\u001b[43m,\u001b[49m\u001b[43m \u001b[49m\u001b[38;5;28;43mself\u001b[39;49m\u001b[38;5;241;43m.\u001b[39;49m\u001b[43mname\u001b[49m\u001b[43m)\u001b[49m\n\u001b[1;32m   1325\u001b[0m \u001b[38;5;28;01mfor\u001b[39;00m temp_arg \u001b[38;5;129;01min\u001b[39;00m temp_args:\n\u001b[1;32m   1326\u001b[0m     \u001b[38;5;28;01mif\u001b[39;00m \u001b[38;5;28mhasattr\u001b[39m(temp_arg, \u001b[38;5;124m\"\u001b[39m\u001b[38;5;124m_detach\u001b[39m\u001b[38;5;124m\"\u001b[39m):\n",
      "File \u001b[0;32m/home4/tc737978/Documents/M2/Machine Learning/TD/TD1/venv/lib/python3.11/site-packages/pyspark/errors/exceptions/captured.py:185\u001b[0m, in \u001b[0;36mcapture_sql_exception.<locals>.deco\u001b[0;34m(*a, **kw)\u001b[0m\n\u001b[1;32m    181\u001b[0m converted \u001b[38;5;241m=\u001b[39m convert_exception(e\u001b[38;5;241m.\u001b[39mjava_exception)\n\u001b[1;32m    182\u001b[0m \u001b[38;5;28;01mif\u001b[39;00m \u001b[38;5;129;01mnot\u001b[39;00m \u001b[38;5;28misinstance\u001b[39m(converted, UnknownException):\n\u001b[1;32m    183\u001b[0m     \u001b[38;5;66;03m# Hide where the exception came from that shows a non-Pythonic\u001b[39;00m\n\u001b[1;32m    184\u001b[0m     \u001b[38;5;66;03m# JVM exception message.\u001b[39;00m\n\u001b[0;32m--> 185\u001b[0m     \u001b[38;5;28;01mraise\u001b[39;00m converted \u001b[38;5;28;01mfrom\u001b[39;00m \u001b[38;5;28;01mNone\u001b[39;00m\n\u001b[1;32m    186\u001b[0m \u001b[38;5;28;01melse\u001b[39;00m:\n\u001b[1;32m    187\u001b[0m     \u001b[38;5;28;01mraise\u001b[39;00m\n",
      "\u001b[0;31mAnalysisException\u001b[0m: Can only star expand struct data types. Attribute: `ArrayBuffer(hours)`."
     ]
    },
    {
     "name": "stderr",
     "output_type": "stream",
     "text": [
      "[Stage 16:===================================================>    (11 + 0) / 12]\r"
     ]
    }
   ],
   "source": [
    "Hours = business_source.select(\"hours.*\")\n",
    "Hours = Hours.withColumn(\"id\", monotonically_increasing_id())\n",
    "Hours.show()"
   ]
  }
 ],
 "metadata": {
  "kernelspec": {
   "display_name": "venv",
   "language": "python",
   "name": "python3"
  },
  "language_info": {
   "codemirror_mode": {
    "name": "ipython",
    "version": 3
   },
   "file_extension": ".py",
   "mimetype": "text/x-python",
   "name": "python",
   "nbconvert_exporter": "python",
   "pygments_lexer": "ipython3",
   "version": "3.11.2"
  }
 },
 "nbformat": 4,
 "nbformat_minor": 2
}
